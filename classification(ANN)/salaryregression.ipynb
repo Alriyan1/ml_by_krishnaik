{
 "cells": [
  {
   "cell_type": "code",
   "execution_count": 1,
   "metadata": {},
   "outputs": [],
   "source": [
    "import pandas as pd\n",
    "from sklearn.model_selection import train_test_split\n",
    "from sklearn.preprocessing import StandardScaler, LabelEncoder, OneHotEncoder\n",
    "import pickle"
   ]
  },
  {
   "cell_type": "code",
   "execution_count": 2,
   "metadata": {},
   "outputs": [
    {
     "data": {
      "text/html": [
       "<div>\n",
       "<style scoped>\n",
       "    .dataframe tbody tr th:only-of-type {\n",
       "        vertical-align: middle;\n",
       "    }\n",
       "\n",
       "    .dataframe tbody tr th {\n",
       "        vertical-align: top;\n",
       "    }\n",
       "\n",
       "    .dataframe thead th {\n",
       "        text-align: right;\n",
       "    }\n",
       "</style>\n",
       "<table border=\"1\" class=\"dataframe\">\n",
       "  <thead>\n",
       "    <tr style=\"text-align: right;\">\n",
       "      <th></th>\n",
       "      <th>RowNumber</th>\n",
       "      <th>CustomerId</th>\n",
       "      <th>Surname</th>\n",
       "      <th>CreditScore</th>\n",
       "      <th>Geography</th>\n",
       "      <th>Gender</th>\n",
       "      <th>Age</th>\n",
       "      <th>Tenure</th>\n",
       "      <th>Balance</th>\n",
       "      <th>NumOfProducts</th>\n",
       "      <th>HasCrCard</th>\n",
       "      <th>IsActiveMember</th>\n",
       "      <th>EstimatedSalary</th>\n",
       "      <th>Exited</th>\n",
       "    </tr>\n",
       "  </thead>\n",
       "  <tbody>\n",
       "    <tr>\n",
       "      <th>0</th>\n",
       "      <td>1</td>\n",
       "      <td>15634602</td>\n",
       "      <td>Hargrave</td>\n",
       "      <td>619</td>\n",
       "      <td>France</td>\n",
       "      <td>Female</td>\n",
       "      <td>42</td>\n",
       "      <td>2</td>\n",
       "      <td>0.00</td>\n",
       "      <td>1</td>\n",
       "      <td>1</td>\n",
       "      <td>1</td>\n",
       "      <td>101348.88</td>\n",
       "      <td>1</td>\n",
       "    </tr>\n",
       "    <tr>\n",
       "      <th>1</th>\n",
       "      <td>2</td>\n",
       "      <td>15647311</td>\n",
       "      <td>Hill</td>\n",
       "      <td>608</td>\n",
       "      <td>Spain</td>\n",
       "      <td>Female</td>\n",
       "      <td>41</td>\n",
       "      <td>1</td>\n",
       "      <td>83807.86</td>\n",
       "      <td>1</td>\n",
       "      <td>0</td>\n",
       "      <td>1</td>\n",
       "      <td>112542.58</td>\n",
       "      <td>0</td>\n",
       "    </tr>\n",
       "    <tr>\n",
       "      <th>2</th>\n",
       "      <td>3</td>\n",
       "      <td>15619304</td>\n",
       "      <td>Onio</td>\n",
       "      <td>502</td>\n",
       "      <td>France</td>\n",
       "      <td>Female</td>\n",
       "      <td>42</td>\n",
       "      <td>8</td>\n",
       "      <td>159660.80</td>\n",
       "      <td>3</td>\n",
       "      <td>1</td>\n",
       "      <td>0</td>\n",
       "      <td>113931.57</td>\n",
       "      <td>1</td>\n",
       "    </tr>\n",
       "    <tr>\n",
       "      <th>3</th>\n",
       "      <td>4</td>\n",
       "      <td>15701354</td>\n",
       "      <td>Boni</td>\n",
       "      <td>699</td>\n",
       "      <td>France</td>\n",
       "      <td>Female</td>\n",
       "      <td>39</td>\n",
       "      <td>1</td>\n",
       "      <td>0.00</td>\n",
       "      <td>2</td>\n",
       "      <td>0</td>\n",
       "      <td>0</td>\n",
       "      <td>93826.63</td>\n",
       "      <td>0</td>\n",
       "    </tr>\n",
       "    <tr>\n",
       "      <th>4</th>\n",
       "      <td>5</td>\n",
       "      <td>15737888</td>\n",
       "      <td>Mitchell</td>\n",
       "      <td>850</td>\n",
       "      <td>Spain</td>\n",
       "      <td>Female</td>\n",
       "      <td>43</td>\n",
       "      <td>2</td>\n",
       "      <td>125510.82</td>\n",
       "      <td>1</td>\n",
       "      <td>1</td>\n",
       "      <td>1</td>\n",
       "      <td>79084.10</td>\n",
       "      <td>0</td>\n",
       "    </tr>\n",
       "  </tbody>\n",
       "</table>\n",
       "</div>"
      ],
      "text/plain": [
       "   RowNumber  CustomerId   Surname  CreditScore Geography  Gender  Age  \\\n",
       "0          1    15634602  Hargrave          619    France  Female   42   \n",
       "1          2    15647311      Hill          608     Spain  Female   41   \n",
       "2          3    15619304      Onio          502    France  Female   42   \n",
       "3          4    15701354      Boni          699    France  Female   39   \n",
       "4          5    15737888  Mitchell          850     Spain  Female   43   \n",
       "\n",
       "   Tenure    Balance  NumOfProducts  HasCrCard  IsActiveMember  \\\n",
       "0       2       0.00              1          1               1   \n",
       "1       1   83807.86              1          0               1   \n",
       "2       8  159660.80              3          1               0   \n",
       "3       1       0.00              2          0               0   \n",
       "4       2  125510.82              1          1               1   \n",
       "\n",
       "   EstimatedSalary  Exited  \n",
       "0        101348.88       1  \n",
       "1        112542.58       0  \n",
       "2        113931.57       1  \n",
       "3         93826.63       0  \n",
       "4         79084.10       0  "
      ]
     },
     "execution_count": 2,
     "metadata": {},
     "output_type": "execute_result"
    }
   ],
   "source": [
    "df=pd.read_csv('Churn_Modelling.csv')\n",
    "df.head()"
   ]
  },
  {
   "cell_type": "code",
   "execution_count": 3,
   "metadata": {},
   "outputs": [],
   "source": [
    "df=df.drop(['RowNumber','CustomerId','Surname'],axis=1)"
   ]
  },
  {
   "cell_type": "code",
   "execution_count": 4,
   "metadata": {},
   "outputs": [],
   "source": [
    "label_encoder_gender=LabelEncoder()\n",
    "df['Gender']=label_encoder_gender.fit_transform(df['Gender'])"
   ]
  },
  {
   "cell_type": "code",
   "execution_count": 7,
   "metadata": {},
   "outputs": [],
   "source": [
    "onehot_encoder_geo=OneHotEncoder(handle_unknown='ignore')\n",
    "geo_encoded=onehot_encoder_geo.fit_transform(df[['Geography']]).toarray()\n",
    "geo_encoded_df=pd.DataFrame(geo_encoded,columns=onehot_encoder_geo.get_feature_names_out(['Geography']))"
   ]
  },
  {
   "cell_type": "code",
   "execution_count": 8,
   "metadata": {},
   "outputs": [
    {
     "data": {
      "text/html": [
       "<div>\n",
       "<style scoped>\n",
       "    .dataframe tbody tr th:only-of-type {\n",
       "        vertical-align: middle;\n",
       "    }\n",
       "\n",
       "    .dataframe tbody tr th {\n",
       "        vertical-align: top;\n",
       "    }\n",
       "\n",
       "    .dataframe thead th {\n",
       "        text-align: right;\n",
       "    }\n",
       "</style>\n",
       "<table border=\"1\" class=\"dataframe\">\n",
       "  <thead>\n",
       "    <tr style=\"text-align: right;\">\n",
       "      <th></th>\n",
       "      <th>Geography_France</th>\n",
       "      <th>Geography_Germany</th>\n",
       "      <th>Geography_Spain</th>\n",
       "    </tr>\n",
       "  </thead>\n",
       "  <tbody>\n",
       "    <tr>\n",
       "      <th>0</th>\n",
       "      <td>1.0</td>\n",
       "      <td>0.0</td>\n",
       "      <td>0.0</td>\n",
       "    </tr>\n",
       "    <tr>\n",
       "      <th>1</th>\n",
       "      <td>0.0</td>\n",
       "      <td>0.0</td>\n",
       "      <td>1.0</td>\n",
       "    </tr>\n",
       "    <tr>\n",
       "      <th>2</th>\n",
       "      <td>1.0</td>\n",
       "      <td>0.0</td>\n",
       "      <td>0.0</td>\n",
       "    </tr>\n",
       "    <tr>\n",
       "      <th>3</th>\n",
       "      <td>1.0</td>\n",
       "      <td>0.0</td>\n",
       "      <td>0.0</td>\n",
       "    </tr>\n",
       "    <tr>\n",
       "      <th>4</th>\n",
       "      <td>0.0</td>\n",
       "      <td>0.0</td>\n",
       "      <td>1.0</td>\n",
       "    </tr>\n",
       "    <tr>\n",
       "      <th>...</th>\n",
       "      <td>...</td>\n",
       "      <td>...</td>\n",
       "      <td>...</td>\n",
       "    </tr>\n",
       "    <tr>\n",
       "      <th>9995</th>\n",
       "      <td>1.0</td>\n",
       "      <td>0.0</td>\n",
       "      <td>0.0</td>\n",
       "    </tr>\n",
       "    <tr>\n",
       "      <th>9996</th>\n",
       "      <td>1.0</td>\n",
       "      <td>0.0</td>\n",
       "      <td>0.0</td>\n",
       "    </tr>\n",
       "    <tr>\n",
       "      <th>9997</th>\n",
       "      <td>1.0</td>\n",
       "      <td>0.0</td>\n",
       "      <td>0.0</td>\n",
       "    </tr>\n",
       "    <tr>\n",
       "      <th>9998</th>\n",
       "      <td>0.0</td>\n",
       "      <td>1.0</td>\n",
       "      <td>0.0</td>\n",
       "    </tr>\n",
       "    <tr>\n",
       "      <th>9999</th>\n",
       "      <td>1.0</td>\n",
       "      <td>0.0</td>\n",
       "      <td>0.0</td>\n",
       "    </tr>\n",
       "  </tbody>\n",
       "</table>\n",
       "<p>10000 rows × 3 columns</p>\n",
       "</div>"
      ],
      "text/plain": [
       "      Geography_France  Geography_Germany  Geography_Spain\n",
       "0                  1.0                0.0              0.0\n",
       "1                  0.0                0.0              1.0\n",
       "2                  1.0                0.0              0.0\n",
       "3                  1.0                0.0              0.0\n",
       "4                  0.0                0.0              1.0\n",
       "...                ...                ...              ...\n",
       "9995               1.0                0.0              0.0\n",
       "9996               1.0                0.0              0.0\n",
       "9997               1.0                0.0              0.0\n",
       "9998               0.0                1.0              0.0\n",
       "9999               1.0                0.0              0.0\n",
       "\n",
       "[10000 rows x 3 columns]"
      ]
     },
     "execution_count": 8,
     "metadata": {},
     "output_type": "execute_result"
    }
   ],
   "source": [
    "geo_encoded_df"
   ]
  },
  {
   "cell_type": "code",
   "execution_count": 9,
   "metadata": {},
   "outputs": [
    {
     "data": {
      "text/html": [
       "<div>\n",
       "<style scoped>\n",
       "    .dataframe tbody tr th:only-of-type {\n",
       "        vertical-align: middle;\n",
       "    }\n",
       "\n",
       "    .dataframe tbody tr th {\n",
       "        vertical-align: top;\n",
       "    }\n",
       "\n",
       "    .dataframe thead th {\n",
       "        text-align: right;\n",
       "    }\n",
       "</style>\n",
       "<table border=\"1\" class=\"dataframe\">\n",
       "  <thead>\n",
       "    <tr style=\"text-align: right;\">\n",
       "      <th></th>\n",
       "      <th>CreditScore</th>\n",
       "      <th>Gender</th>\n",
       "      <th>Age</th>\n",
       "      <th>Tenure</th>\n",
       "      <th>Balance</th>\n",
       "      <th>NumOfProducts</th>\n",
       "      <th>HasCrCard</th>\n",
       "      <th>IsActiveMember</th>\n",
       "      <th>EstimatedSalary</th>\n",
       "      <th>Exited</th>\n",
       "      <th>Geography_France</th>\n",
       "      <th>Geography_Germany</th>\n",
       "      <th>Geography_Spain</th>\n",
       "    </tr>\n",
       "  </thead>\n",
       "  <tbody>\n",
       "    <tr>\n",
       "      <th>0</th>\n",
       "      <td>619</td>\n",
       "      <td>0</td>\n",
       "      <td>42</td>\n",
       "      <td>2</td>\n",
       "      <td>0.00</td>\n",
       "      <td>1</td>\n",
       "      <td>1</td>\n",
       "      <td>1</td>\n",
       "      <td>101348.88</td>\n",
       "      <td>1</td>\n",
       "      <td>1.0</td>\n",
       "      <td>0.0</td>\n",
       "      <td>0.0</td>\n",
       "    </tr>\n",
       "    <tr>\n",
       "      <th>1</th>\n",
       "      <td>608</td>\n",
       "      <td>0</td>\n",
       "      <td>41</td>\n",
       "      <td>1</td>\n",
       "      <td>83807.86</td>\n",
       "      <td>1</td>\n",
       "      <td>0</td>\n",
       "      <td>1</td>\n",
       "      <td>112542.58</td>\n",
       "      <td>0</td>\n",
       "      <td>0.0</td>\n",
       "      <td>0.0</td>\n",
       "      <td>1.0</td>\n",
       "    </tr>\n",
       "    <tr>\n",
       "      <th>2</th>\n",
       "      <td>502</td>\n",
       "      <td>0</td>\n",
       "      <td>42</td>\n",
       "      <td>8</td>\n",
       "      <td>159660.80</td>\n",
       "      <td>3</td>\n",
       "      <td>1</td>\n",
       "      <td>0</td>\n",
       "      <td>113931.57</td>\n",
       "      <td>1</td>\n",
       "      <td>1.0</td>\n",
       "      <td>0.0</td>\n",
       "      <td>0.0</td>\n",
       "    </tr>\n",
       "    <tr>\n",
       "      <th>3</th>\n",
       "      <td>699</td>\n",
       "      <td>0</td>\n",
       "      <td>39</td>\n",
       "      <td>1</td>\n",
       "      <td>0.00</td>\n",
       "      <td>2</td>\n",
       "      <td>0</td>\n",
       "      <td>0</td>\n",
       "      <td>93826.63</td>\n",
       "      <td>0</td>\n",
       "      <td>1.0</td>\n",
       "      <td>0.0</td>\n",
       "      <td>0.0</td>\n",
       "    </tr>\n",
       "    <tr>\n",
       "      <th>4</th>\n",
       "      <td>850</td>\n",
       "      <td>0</td>\n",
       "      <td>43</td>\n",
       "      <td>2</td>\n",
       "      <td>125510.82</td>\n",
       "      <td>1</td>\n",
       "      <td>1</td>\n",
       "      <td>1</td>\n",
       "      <td>79084.10</td>\n",
       "      <td>0</td>\n",
       "      <td>0.0</td>\n",
       "      <td>0.0</td>\n",
       "      <td>1.0</td>\n",
       "    </tr>\n",
       "  </tbody>\n",
       "</table>\n",
       "</div>"
      ],
      "text/plain": [
       "   CreditScore  Gender  Age  Tenure    Balance  NumOfProducts  HasCrCard  \\\n",
       "0          619       0   42       2       0.00              1          1   \n",
       "1          608       0   41       1   83807.86              1          0   \n",
       "2          502       0   42       8  159660.80              3          1   \n",
       "3          699       0   39       1       0.00              2          0   \n",
       "4          850       0   43       2  125510.82              1          1   \n",
       "\n",
       "   IsActiveMember  EstimatedSalary  Exited  Geography_France  \\\n",
       "0               1        101348.88       1               1.0   \n",
       "1               1        112542.58       0               0.0   \n",
       "2               0        113931.57       1               1.0   \n",
       "3               0         93826.63       0               1.0   \n",
       "4               1         79084.10       0               0.0   \n",
       "\n",
       "   Geography_Germany  Geography_Spain  \n",
       "0                0.0              0.0  \n",
       "1                0.0              1.0  \n",
       "2                0.0              0.0  \n",
       "3                0.0              0.0  \n",
       "4                0.0              1.0  "
      ]
     },
     "execution_count": 9,
     "metadata": {},
     "output_type": "execute_result"
    }
   ],
   "source": [
    "df=pd.concat([df.drop('Geography',axis=1),geo_encoded_df],axis=1)\n",
    "df.head()"
   ]
  },
  {
   "cell_type": "code",
   "execution_count": 10,
   "metadata": {},
   "outputs": [],
   "source": [
    "x=df.drop('EstimatedSalary',axis=1)\n",
    "y=df['EstimatedSalary']"
   ]
  },
  {
   "cell_type": "code",
   "execution_count": 11,
   "metadata": {},
   "outputs": [],
   "source": [
    "x_train,x_test,y_train,y_test=train_test_split(x,y,test_size=0.2,random_state=42)"
   ]
  },
  {
   "cell_type": "code",
   "execution_count": 12,
   "metadata": {},
   "outputs": [],
   "source": [
    "scaler=StandardScaler()\n",
    "x_train=scaler.fit_transform(x_train)\n",
    "x_test=scaler.transform(x_test)"
   ]
  },
  {
   "cell_type": "code",
   "execution_count": 13,
   "metadata": {},
   "outputs": [],
   "source": [
    "with open('label_encoder_gender2.pkl','wb') as f:\n",
    "    pickle.dump(label_encoder_gender,f)\n",
    "\n",
    "with open('onehot_encoder_geo2.pkl','wb') as f:\n",
    "    pickle.dump(onehot_encoder_geo,f)\n",
    "\n",
    "with open('scaler2.pkl','wb') as f:\n",
    "    pickle.dump(scaler,f)"
   ]
  },
  {
   "cell_type": "code",
   "execution_count": 14,
   "metadata": {},
   "outputs": [],
   "source": [
    "import tensorflow as tf\n",
    "from tensorflow.keras.models import Sequential\n",
    "from tensorflow.keras.layers import Dense"
   ]
  },
  {
   "cell_type": "code",
   "execution_count": 15,
   "metadata": {},
   "outputs": [
    {
     "name": "stdout",
     "output_type": "stream",
     "text": [
      "WARNING:tensorflow:From c:\\Users\\farde\\anaconda3\\Lib\\site-packages\\keras\\src\\backend.py:873: The name tf.get_default_graph is deprecated. Please use tf.compat.v1.get_default_graph instead.\n",
      "\n",
      "WARNING:tensorflow:From c:\\Users\\farde\\anaconda3\\Lib\\site-packages\\keras\\src\\optimizers\\__init__.py:309: The name tf.train.Optimizer is deprecated. Please use tf.compat.v1.train.Optimizer instead.\n",
      "\n",
      "Model: \"sequential\"\n",
      "_________________________________________________________________\n",
      " Layer (type)                Output Shape              Param #   \n",
      "=================================================================\n",
      " dense (Dense)               (None, 64)                832       \n",
      "                                                                 \n",
      " dense_1 (Dense)             (None, 32)                2080      \n",
      "                                                                 \n",
      " dense_2 (Dense)             (None, 1)                 33        \n",
      "                                                                 \n",
      "=================================================================\n",
      "Total params: 2945 (11.50 KB)\n",
      "Trainable params: 2945 (11.50 KB)\n",
      "Non-trainable params: 0 (0.00 Byte)\n",
      "_________________________________________________________________\n"
     ]
    }
   ],
   "source": [
    "model=Sequential([\n",
    "    Dense(64,activation='relu',input_shape=(x_train.shape[1],)),\n",
    "    Dense(32,activation='relu'),\n",
    "    Dense(1)\n",
    "])\n",
    "\n",
    "model.compile(optimizer='adam',loss='mean_squared_error',metrics=['mae'])\n",
    "\n",
    "model.summary()"
   ]
  },
  {
   "cell_type": "code",
   "execution_count": 16,
   "metadata": {},
   "outputs": [],
   "source": [
    "from tensorflow.keras.callbacks import EarlyStopping,TensorBoard\n",
    "import datetime"
   ]
  },
  {
   "cell_type": "code",
   "execution_count": 17,
   "metadata": {},
   "outputs": [],
   "source": [
    "log_dir='regressionlogs/fit/' + datetime.datetime.now().strftime('%Y%m%d-%H%M%S')\n",
    "tensorboard_callbacks=TensorBoard(log_dir=log_dir,histogram_freq=1)"
   ]
  },
  {
   "cell_type": "code",
   "execution_count": 18,
   "metadata": {},
   "outputs": [],
   "source": [
    "early_stop_callback=EarlyStopping(monitor='val_loss',patience=5,restore_best_weights=True)"
   ]
  },
  {
   "cell_type": "code",
   "execution_count": 19,
   "metadata": {},
   "outputs": [
    {
     "name": "stdout",
     "output_type": "stream",
     "text": [
      "Epoch 1/100\n",
      "WARNING:tensorflow:From c:\\Users\\farde\\anaconda3\\Lib\\site-packages\\keras\\src\\utils\\tf_utils.py:492: The name tf.ragged.RaggedTensorValue is deprecated. Please use tf.compat.v1.ragged.RaggedTensorValue instead.\n",
      "\n",
      "WARNING:tensorflow:From c:\\Users\\farde\\anaconda3\\Lib\\site-packages\\keras\\src\\engine\\base_layer_utils.py:384: The name tf.executing_eagerly_outside_functions is deprecated. Please use tf.compat.v1.executing_eagerly_outside_functions instead.\n",
      "\n",
      "250/250 [==============================] - 2s 4ms/step - loss: 13384933376.0000 - mae: 100384.4453 - val_loss: 13011094528.0000 - val_mae: 98538.8828\n",
      "Epoch 2/100\n",
      "250/250 [==============================] - 1s 3ms/step - loss: 13247669248.0000 - mae: 99708.1875 - val_loss: 12737679360.0000 - val_mae: 97156.8984\n",
      "Epoch 3/100\n",
      "250/250 [==============================] - 1s 2ms/step - loss: 12757960704.0000 - mae: 97270.8516 - val_loss: 12028623872.0000 - val_mae: 93573.5703\n",
      "Epoch 4/100\n",
      "250/250 [==============================] - 1s 2ms/step - loss: 11781633024.0000 - mae: 92415.0000 - val_loss: 10828471296.0000 - val_mae: 87508.6562\n",
      "Epoch 5/100\n",
      "250/250 [==============================] - 1s 2ms/step - loss: 10331633664.0000 - mae: 85256.7812 - val_loss: 9232035840.0000 - val_mae: 79438.7578\n",
      "Epoch 6/100\n",
      "250/250 [==============================] - 1s 2ms/step - loss: 8581482496.0000 - mae: 76467.1328 - val_loss: 7474728960.0000 - val_mae: 70677.2109\n",
      "Epoch 7/100\n",
      "250/250 [==============================] - 1s 2ms/step - loss: 6827009024.0000 - mae: 67638.1250 - val_loss: 5882946560.0000 - val_mae: 62728.3477\n",
      "Epoch 8/100\n",
      "250/250 [==============================] - 1s 2ms/step - loss: 5364724224.0000 - mae: 60115.4609 - val_loss: 4695874560.0000 - val_mae: 56712.7734\n",
      "Epoch 9/100\n",
      "250/250 [==============================] - 1s 2ms/step - loss: 4363297280.0000 - mae: 55041.1367 - val_loss: 3985451520.0000 - val_mae: 53068.9609\n",
      "Epoch 10/100\n",
      "250/250 [==============================] - 1s 3ms/step - loss: 3816077312.0000 - mae: 52200.1641 - val_loss: 3653806080.0000 - val_mae: 51404.2188\n",
      "Epoch 11/100\n",
      "250/250 [==============================] - 1s 2ms/step - loss: 3572864000.0000 - mae: 50941.0977 - val_loss: 3530510080.0000 - val_mae: 50851.5117\n",
      "Epoch 12/100\n",
      "250/250 [==============================] - 1s 3ms/step - loss: 3477231872.0000 - mae: 50450.1875 - val_loss: 3486759936.0000 - val_mae: 50663.2031\n",
      "Epoch 13/100\n",
      "250/250 [==============================] - 1s 2ms/step - loss: 3436932096.0000 - mae: 50243.4023 - val_loss: 3466363392.0000 - val_mae: 50573.6328\n",
      "Epoch 14/100\n",
      "250/250 [==============================] - 1s 3ms/step - loss: 3415538432.0000 - mae: 50138.3281 - val_loss: 3452666880.0000 - val_mae: 50515.8398\n",
      "Epoch 15/100\n",
      "250/250 [==============================] - 1s 2ms/step - loss: 3400643840.0000 - mae: 50065.9727 - val_loss: 3441308416.0000 - val_mae: 50466.3398\n",
      "Epoch 16/100\n",
      "250/250 [==============================] - 1s 2ms/step - loss: 3389004288.0000 - mae: 50009.7461 - val_loss: 3429770752.0000 - val_mae: 50411.4688\n",
      "Epoch 17/100\n",
      "250/250 [==============================] - 1s 2ms/step - loss: 3379314944.0000 - mae: 49956.8359 - val_loss: 3422734592.0000 - val_mae: 50385.5117\n",
      "Epoch 18/100\n",
      "250/250 [==============================] - 1s 2ms/step - loss: 3370575616.0000 - mae: 49914.9570 - val_loss: 3415448064.0000 - val_mae: 50356.5664\n",
      "Epoch 19/100\n",
      "250/250 [==============================] - 1s 4ms/step - loss: 3363276544.0000 - mae: 49877.4141 - val_loss: 3406975232.0000 - val_mae: 50317.8008\n",
      "Epoch 20/100\n",
      "250/250 [==============================] - 1s 3ms/step - loss: 3357047552.0000 - mae: 49838.9219 - val_loss: 3401820416.0000 - val_mae: 50300.6328\n",
      "Epoch 21/100\n",
      "250/250 [==============================] - 1s 2ms/step - loss: 3351410688.0000 - mae: 49813.0508 - val_loss: 3397851904.0000 - val_mae: 50284.9648\n",
      "Epoch 22/100\n",
      "250/250 [==============================] - 1s 3ms/step - loss: 3346725888.0000 - mae: 49787.8945 - val_loss: 3391336704.0000 - val_mae: 50256.3672\n",
      "Epoch 23/100\n",
      "250/250 [==============================] - 1s 2ms/step - loss: 3342175744.0000 - mae: 49761.1211 - val_loss: 3387774208.0000 - val_mae: 50240.6406\n",
      "Epoch 24/100\n",
      "250/250 [==============================] - 1s 2ms/step - loss: 3338646272.0000 - mae: 49743.6328 - val_loss: 3384873984.0000 - val_mae: 50229.3242\n",
      "Epoch 25/100\n",
      "250/250 [==============================] - 1s 2ms/step - loss: 3335004928.0000 - mae: 49720.7031 - val_loss: 3380743936.0000 - val_mae: 50211.8242\n",
      "Epoch 26/100\n",
      "250/250 [==============================] - 1s 2ms/step - loss: 3331848960.0000 - mae: 49702.8672 - val_loss: 3377623552.0000 - val_mae: 50198.0781\n",
      "Epoch 27/100\n",
      "250/250 [==============================] - 1s 2ms/step - loss: 3329074176.0000 - mae: 49688.4922 - val_loss: 3375524864.0000 - val_mae: 50190.6797\n",
      "Epoch 28/100\n",
      "250/250 [==============================] - 1s 2ms/step - loss: 3326729472.0000 - mae: 49673.1289 - val_loss: 3374130688.0000 - val_mae: 50185.4844\n",
      "Epoch 29/100\n",
      "250/250 [==============================] - 1s 2ms/step - loss: 3324633088.0000 - mae: 49660.3789 - val_loss: 3371459072.0000 - val_mae: 50175.7344\n",
      "Epoch 30/100\n",
      "250/250 [==============================] - 1s 2ms/step - loss: 3322310656.0000 - mae: 49646.1914 - val_loss: 3369436672.0000 - val_mae: 50166.3516\n",
      "Epoch 31/100\n",
      "250/250 [==============================] - 1s 2ms/step - loss: 3320984576.0000 - mae: 49639.2461 - val_loss: 3368910080.0000 - val_mae: 50168.8477\n",
      "Epoch 32/100\n",
      "250/250 [==============================] - 1s 2ms/step - loss: 3318973440.0000 - mae: 49624.8359 - val_loss: 3368201472.0000 - val_mae: 50169.4102\n",
      "Epoch 33/100\n",
      "250/250 [==============================] - 1s 2ms/step - loss: 3317545728.0000 - mae: 49619.1836 - val_loss: 3366713344.0000 - val_mae: 50161.7656\n",
      "Epoch 34/100\n",
      "250/250 [==============================] - 1s 2ms/step - loss: 3315616000.0000 - mae: 49605.9961 - val_loss: 3365587200.0000 - val_mae: 50158.6953\n",
      "Epoch 35/100\n",
      "250/250 [==============================] - 1s 2ms/step - loss: 3314532864.0000 - mae: 49599.3320 - val_loss: 3364220672.0000 - val_mae: 50155.5859\n",
      "Epoch 36/100\n",
      "250/250 [==============================] - 1s 2ms/step - loss: 3313405952.0000 - mae: 49590.1523 - val_loss: 3362533376.0000 - val_mae: 50145.5898\n",
      "Epoch 37/100\n",
      "250/250 [==============================] - 1s 2ms/step - loss: 3312179456.0000 - mae: 49584.9805 - val_loss: 3362731008.0000 - val_mae: 50149.4102\n",
      "Epoch 38/100\n",
      "250/250 [==============================] - 1s 2ms/step - loss: 3310814976.0000 - mae: 49575.9102 - val_loss: 3361145088.0000 - val_mae: 50142.2266\n",
      "Epoch 39/100\n",
      "250/250 [==============================] - 1s 2ms/step - loss: 3309506816.0000 - mae: 49567.3477 - val_loss: 3361639424.0000 - val_mae: 50147.0195\n",
      "Epoch 40/100\n",
      "250/250 [==============================] - 1s 3ms/step - loss: 3308410112.0000 - mae: 49555.9570 - val_loss: 3360551680.0000 - val_mae: 50144.0625\n",
      "Epoch 41/100\n",
      "250/250 [==============================] - 1s 2ms/step - loss: 3307606784.0000 - mae: 49552.3555 - val_loss: 3360212992.0000 - val_mae: 50142.7109\n",
      "Epoch 42/100\n",
      "250/250 [==============================] - 1s 2ms/step - loss: 3306837248.0000 - mae: 49547.3594 - val_loss: 3360907776.0000 - val_mae: 50149.7344\n",
      "Epoch 43/100\n",
      "250/250 [==============================] - 1s 2ms/step - loss: 3305906432.0000 - mae: 49538.4297 - val_loss: 3361575168.0000 - val_mae: 50156.1289\n",
      "Epoch 44/100\n",
      "250/250 [==============================] - 1s 2ms/step - loss: 3305187072.0000 - mae: 49537.4414 - val_loss: 3358492416.0000 - val_mae: 50138.0859\n",
      "Epoch 45/100\n",
      "250/250 [==============================] - 1s 2ms/step - loss: 3304281344.0000 - mae: 49531.6250 - val_loss: 3358050304.0000 - val_mae: 50134.7031\n",
      "Epoch 46/100\n",
      "250/250 [==============================] - 1s 2ms/step - loss: 3303288832.0000 - mae: 49520.6602 - val_loss: 3358148608.0000 - val_mae: 50137.5664\n",
      "Epoch 47/100\n",
      "250/250 [==============================] - 1s 2ms/step - loss: 3302940416.0000 - mae: 49513.9297 - val_loss: 3358875136.0000 - val_mae: 50141.9219\n",
      "Epoch 48/100\n",
      "250/250 [==============================] - 1s 2ms/step - loss: 3301961216.0000 - mae: 49511.5312 - val_loss: 3358581760.0000 - val_mae: 50142.8203\n",
      "Epoch 49/100\n",
      "250/250 [==============================] - 1s 2ms/step - loss: 3301243904.0000 - mae: 49508.3945 - val_loss: 3358942720.0000 - val_mae: 50146.6484\n",
      "Epoch 50/100\n",
      "250/250 [==============================] - 1s 2ms/step - loss: 3300821504.0000 - mae: 49505.3516 - val_loss: 3357480704.0000 - val_mae: 50138.1172\n",
      "Epoch 51/100\n",
      "250/250 [==============================] - 1s 2ms/step - loss: 3299958528.0000 - mae: 49497.1602 - val_loss: 3357333504.0000 - val_mae: 50134.2852\n",
      "Epoch 52/100\n",
      "250/250 [==============================] - 1s 2ms/step - loss: 3299204864.0000 - mae: 49490.1875 - val_loss: 3357240320.0000 - val_mae: 50136.1758\n",
      "Epoch 53/100\n",
      "250/250 [==============================] - 1s 2ms/step - loss: 3298648320.0000 - mae: 49485.8594 - val_loss: 3357533952.0000 - val_mae: 50138.8984\n",
      "Epoch 54/100\n",
      "250/250 [==============================] - 1s 2ms/step - loss: 3298074368.0000 - mae: 49484.0586 - val_loss: 3357711872.0000 - val_mae: 50140.2344\n",
      "Epoch 55/100\n",
      "250/250 [==============================] - 1s 2ms/step - loss: 3297771008.0000 - mae: 49479.1328 - val_loss: 3357156864.0000 - val_mae: 50137.9453\n",
      "Epoch 56/100\n",
      "250/250 [==============================] - 1s 2ms/step - loss: 3297004288.0000 - mae: 49474.8789 - val_loss: 3358237184.0000 - val_mae: 50144.0703\n",
      "Epoch 57/100\n",
      "250/250 [==============================] - 1s 2ms/step - loss: 3296580608.0000 - mae: 49472.2539 - val_loss: 3358315008.0000 - val_mae: 50145.7109\n",
      "Epoch 58/100\n",
      "250/250 [==============================] - 1s 2ms/step - loss: 3296171520.0000 - mae: 49465.5117 - val_loss: 3357063936.0000 - val_mae: 50138.8125\n",
      "Epoch 59/100\n",
      "250/250 [==============================] - 1s 2ms/step - loss: 3295473920.0000 - mae: 49463.3320 - val_loss: 3358021120.0000 - val_mae: 50145.5508\n",
      "Epoch 60/100\n",
      "250/250 [==============================] - 1s 2ms/step - loss: 3295058176.0000 - mae: 49460.0352 - val_loss: 3357837568.0000 - val_mae: 50146.4141\n",
      "Epoch 61/100\n",
      "250/250 [==============================] - 1s 2ms/step - loss: 3294766592.0000 - mae: 49456.3516 - val_loss: 3358071552.0000 - val_mae: 50148.5938\n",
      "Epoch 62/100\n",
      "250/250 [==============================] - 1s 2ms/step - loss: 3293994240.0000 - mae: 49451.4648 - val_loss: 3358081280.0000 - val_mae: 50148.4141\n",
      "Epoch 63/100\n",
      "250/250 [==============================] - 1s 2ms/step - loss: 3293948672.0000 - mae: 49452.8398 - val_loss: 3356162816.0000 - val_mae: 50136.9766\n",
      "Epoch 64/100\n",
      "250/250 [==============================] - 1s 2ms/step - loss: 3293135872.0000 - mae: 49441.0117 - val_loss: 3357930496.0000 - val_mae: 50149.3008\n",
      "Epoch 65/100\n",
      "250/250 [==============================] - 1s 2ms/step - loss: 3292679680.0000 - mae: 49442.2227 - val_loss: 3358138624.0000 - val_mae: 50151.5430\n",
      "Epoch 66/100\n",
      "250/250 [==============================] - 1s 2ms/step - loss: 3292427520.0000 - mae: 49442.1758 - val_loss: 3357381120.0000 - val_mae: 50147.1445\n",
      "Epoch 67/100\n",
      "250/250 [==============================] - 1s 2ms/step - loss: 3291954176.0000 - mae: 49436.0469 - val_loss: 3358293504.0000 - val_mae: 50152.6953\n",
      "Epoch 68/100\n",
      "250/250 [==============================] - 1s 2ms/step - loss: 3291171840.0000 - mae: 49429.8594 - val_loss: 3357374464.0000 - val_mae: 50145.2695\n"
     ]
    }
   ],
   "source": [
    "history=model.fit(x_train,y_train,\n",
    "                  epochs=100,\n",
    "                  validation_data=(x_test,y_test),\n",
    "                  callbacks=[early_stop_callback,tensorboard_callbacks]\n",
    "                  )"
   ]
  },
  {
   "cell_type": "code",
   "execution_count": 20,
   "metadata": {},
   "outputs": [],
   "source": [
    "%load_ext tensorboard"
   ]
  },
  {
   "cell_type": "code",
   "execution_count": 22,
   "metadata": {},
   "outputs": [
    {
     "data": {
      "text/plain": [
       "Reusing TensorBoard on port 6006 (pid 9120), started 0:00:11 ago. (Use '!kill 9120' to kill it.)"
      ]
     },
     "metadata": {},
     "output_type": "display_data"
    },
    {
     "data": {
      "text/html": [
       "\n",
       "      <iframe id=\"tensorboard-frame-11bb0003f231716\" width=\"100%\" height=\"800\" frameborder=\"0\">\n",
       "      </iframe>\n",
       "      <script>\n",
       "        (function() {\n",
       "          const frame = document.getElementById(\"tensorboard-frame-11bb0003f231716\");\n",
       "          const url = new URL(\"http://localhost\");\n",
       "          const port = 6006;\n",
       "          if (port) {\n",
       "            url.port = port;\n",
       "          }\n",
       "          frame.src = url;\n",
       "        })();\n",
       "      </script>\n",
       "    "
      ],
      "text/plain": [
       "<IPython.core.display.HTML object>"
      ]
     },
     "metadata": {},
     "output_type": "display_data"
    }
   ],
   "source": [
    "%tensorboard --logdir regressionlogs/fit"
   ]
  },
  {
   "cell_type": "code",
   "execution_count": 23,
   "metadata": {},
   "outputs": [
    {
     "name": "stdout",
     "output_type": "stream",
     "text": [
      "63/63 [==============================] - 0s 1ms/step - loss: 3356162816.0000 - mae: 50136.9766\n"
     ]
    },
    {
     "data": {
      "text/plain": [
       "[3356162816.0, 50136.9765625]"
      ]
     },
     "execution_count": 23,
     "metadata": {},
     "output_type": "execute_result"
    }
   ],
   "source": [
    "model.evaluate(x_test,y_test)"
   ]
  },
  {
   "cell_type": "code",
   "execution_count": 24,
   "metadata": {},
   "outputs": [
    {
     "name": "stderr",
     "output_type": "stream",
     "text": [
      "c:\\Users\\farde\\anaconda3\\Lib\\site-packages\\keras\\src\\engine\\training.py:3103: UserWarning: You are saving your model as an HDF5 file via `model.save()`. This file format is considered legacy. We recommend using instead the native Keras format, e.g. `model.save('my_model.keras')`.\n",
      "  saving_api.save_model(\n"
     ]
    }
   ],
   "source": [
    "model.save('regressionmodel.h5')"
   ]
  },
  {
   "cell_type": "code",
   "execution_count": 28,
   "metadata": {},
   "outputs": [
    {
     "data": {
      "text/plain": [
       "<Axes: >"
      ]
     },
     "execution_count": 28,
     "metadata": {},
     "output_type": "execute_result"
    },
    {
     "data": {
      "image/png": "[encoded data removed]",
      "text/plain": [
       "<Figure size 640x480 with 1 Axes>"
      ]
     },
     "metadata": {},
     "output_type": "display_data"
    }
   ],
   "source": [
    "pd.DataFrame(history.history).plot()"
   ]
  },
  {
   "cell_type": "code",
   "execution_count": null,
   "metadata": {},
   "outputs": [],
   "source": []
  }
 ],
 "metadata": {
  "kernelspec": {
   "display_name": "base",
   "language": "python",
   "name": "python3"
  },
  "language_info": {
   "codemirror_mode": {
    "name": "ipython",
    "version": 3
   },
   "file_extension": ".py",
   "mimetype": "text/x-python",
   "name": "python",
   "nbconvert_exporter": "python",
   "pygments_lexer": "ipython3",
   "version": "3.11.4"
  }
 },
 "nbformat": 4,
 "nbformat_minor": 2
}
