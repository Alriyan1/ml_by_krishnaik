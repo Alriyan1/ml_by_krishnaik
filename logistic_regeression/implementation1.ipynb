{
 "cells": [
  {
   "cell_type": "code",
   "execution_count": 1,
   "metadata": {},
   "outputs": [],
   "source": [
    "import pandas as pd\n",
    "import numpy as np\n",
    "import matplotlib.pyplot as plt\n",
    "import seaborn as sns\n",
    "%matplotlib inline"
   ]
  },
  {
   "cell_type": "code",
   "execution_count": 2,
   "metadata": {},
   "outputs": [],
   "source": [
    "from sklearn.datasets import make_classification"
   ]
  },
  {
   "cell_type": "code",
   "execution_count": 3,
   "metadata": {},
   "outputs": [],
   "source": [
    "x,y=make_classification(n_samples=1000,n_features=10,n_classes=2,random_state=42)"
   ]
  },
  {
   "cell_type": "code",
   "execution_count": 4,
   "metadata": {},
   "outputs": [
    {
     "data": {
      "text/html": [
       "<div>\n",
       "<style scoped>\n",
       "    .dataframe tbody tr th:only-of-type {\n",
       "        vertical-align: middle;\n",
       "    }\n",
       "\n",
       "    .dataframe tbody tr th {\n",
       "        vertical-align: top;\n",
       "    }\n",
       "\n",
       "    .dataframe thead th {\n",
       "        text-align: right;\n",
       "    }\n",
       "</style>\n",
       "<table border=\"1\" class=\"dataframe\">\n",
       "  <thead>\n",
       "    <tr style=\"text-align: right;\">\n",
       "      <th></th>\n",
       "      <th>0</th>\n",
       "      <th>1</th>\n",
       "      <th>2</th>\n",
       "      <th>3</th>\n",
       "      <th>4</th>\n",
       "      <th>5</th>\n",
       "      <th>6</th>\n",
       "      <th>7</th>\n",
       "      <th>8</th>\n",
       "      <th>9</th>\n",
       "    </tr>\n",
       "  </thead>\n",
       "  <tbody>\n",
       "    <tr>\n",
       "      <th>0</th>\n",
       "      <td>0.964799</td>\n",
       "      <td>-0.066449</td>\n",
       "      <td>0.986768</td>\n",
       "      <td>-0.358079</td>\n",
       "      <td>0.997266</td>\n",
       "      <td>1.181890</td>\n",
       "      <td>-1.615679</td>\n",
       "      <td>-1.210161</td>\n",
       "      <td>-0.628077</td>\n",
       "      <td>1.227274</td>\n",
       "    </tr>\n",
       "    <tr>\n",
       "      <th>1</th>\n",
       "      <td>-0.916511</td>\n",
       "      <td>-0.566395</td>\n",
       "      <td>-1.008614</td>\n",
       "      <td>0.831617</td>\n",
       "      <td>-1.176962</td>\n",
       "      <td>1.820544</td>\n",
       "      <td>1.752375</td>\n",
       "      <td>-0.984534</td>\n",
       "      <td>0.363896</td>\n",
       "      <td>0.209470</td>\n",
       "    </tr>\n",
       "    <tr>\n",
       "      <th>2</th>\n",
       "      <td>-0.109484</td>\n",
       "      <td>-0.432774</td>\n",
       "      <td>-0.457649</td>\n",
       "      <td>0.793818</td>\n",
       "      <td>-0.268646</td>\n",
       "      <td>-1.836360</td>\n",
       "      <td>1.239086</td>\n",
       "      <td>-0.246383</td>\n",
       "      <td>-1.058145</td>\n",
       "      <td>-0.297376</td>\n",
       "    </tr>\n",
       "    <tr>\n",
       "      <th>3</th>\n",
       "      <td>1.750412</td>\n",
       "      <td>2.023606</td>\n",
       "      <td>1.688159</td>\n",
       "      <td>0.006800</td>\n",
       "      <td>-1.607661</td>\n",
       "      <td>0.184741</td>\n",
       "      <td>-2.619427</td>\n",
       "      <td>-0.357445</td>\n",
       "      <td>-1.473127</td>\n",
       "      <td>-0.190039</td>\n",
       "    </tr>\n",
       "    <tr>\n",
       "      <th>4</th>\n",
       "      <td>-0.224726</td>\n",
       "      <td>-0.711303</td>\n",
       "      <td>-0.220778</td>\n",
       "      <td>0.117124</td>\n",
       "      <td>1.536061</td>\n",
       "      <td>0.597538</td>\n",
       "      <td>0.348645</td>\n",
       "      <td>-0.939156</td>\n",
       "      <td>0.175915</td>\n",
       "      <td>0.236224</td>\n",
       "    </tr>\n",
       "    <tr>\n",
       "      <th>...</th>\n",
       "      <td>...</td>\n",
       "      <td>...</td>\n",
       "      <td>...</td>\n",
       "      <td>...</td>\n",
       "      <td>...</td>\n",
       "      <td>...</td>\n",
       "      <td>...</td>\n",
       "      <td>...</td>\n",
       "      <td>...</td>\n",
       "      <td>...</td>\n",
       "    </tr>\n",
       "    <tr>\n",
       "      <th>995</th>\n",
       "      <td>-1.367638</td>\n",
       "      <td>1.462255</td>\n",
       "      <td>-1.154918</td>\n",
       "      <td>-0.290454</td>\n",
       "      <td>-0.413424</td>\n",
       "      <td>0.032396</td>\n",
       "      <td>1.545490</td>\n",
       "      <td>1.428760</td>\n",
       "      <td>1.687092</td>\n",
       "      <td>1.072542</td>\n",
       "    </tr>\n",
       "    <tr>\n",
       "      <th>996</th>\n",
       "      <td>-1.514876</td>\n",
       "      <td>-3.221016</td>\n",
       "      <td>-1.300744</td>\n",
       "      <td>0.395599</td>\n",
       "      <td>-0.527994</td>\n",
       "      <td>1.353069</td>\n",
       "      <td>1.777506</td>\n",
       "      <td>-1.680870</td>\n",
       "      <td>1.798510</td>\n",
       "      <td>0.034272</td>\n",
       "    </tr>\n",
       "    <tr>\n",
       "      <th>997</th>\n",
       "      <td>1.674633</td>\n",
       "      <td>1.754933</td>\n",
       "      <td>1.586154</td>\n",
       "      <td>0.018402</td>\n",
       "      <td>-1.514470</td>\n",
       "      <td>0.321593</td>\n",
       "      <td>-2.417694</td>\n",
       "      <td>0.692723</td>\n",
       "      <td>-1.503850</td>\n",
       "      <td>0.225264</td>\n",
       "    </tr>\n",
       "    <tr>\n",
       "      <th>998</th>\n",
       "      <td>-0.778609</td>\n",
       "      <td>-0.835689</td>\n",
       "      <td>-0.194842</td>\n",
       "      <td>1.097220</td>\n",
       "      <td>0.180071</td>\n",
       "      <td>-0.272933</td>\n",
       "      <td>-0.533188</td>\n",
       "      <td>-0.497354</td>\n",
       "      <td>2.472138</td>\n",
       "      <td>0.867187</td>\n",
       "    </tr>\n",
       "    <tr>\n",
       "      <th>999</th>\n",
       "      <td>0.248454</td>\n",
       "      <td>-1.003439</td>\n",
       "      <td>0.360460</td>\n",
       "      <td>-0.331352</td>\n",
       "      <td>1.389764</td>\n",
       "      <td>-1.345210</td>\n",
       "      <td>-0.740875</td>\n",
       "      <td>0.773240</td>\n",
       "      <td>0.185734</td>\n",
       "      <td>1.416412</td>\n",
       "    </tr>\n",
       "  </tbody>\n",
       "</table>\n",
       "<p>1000 rows × 10 columns</p>\n",
       "</div>"
      ],
      "text/plain": [
       "            0         1         2         3         4         5         6  \\\n",
       "0    0.964799 -0.066449  0.986768 -0.358079  0.997266  1.181890 -1.615679   \n",
       "1   -0.916511 -0.566395 -1.008614  0.831617 -1.176962  1.820544  1.752375   \n",
       "2   -0.109484 -0.432774 -0.457649  0.793818 -0.268646 -1.836360  1.239086   \n",
       "3    1.750412  2.023606  1.688159  0.006800 -1.607661  0.184741 -2.619427   \n",
       "4   -0.224726 -0.711303 -0.220778  0.117124  1.536061  0.597538  0.348645   \n",
       "..        ...       ...       ...       ...       ...       ...       ...   \n",
       "995 -1.367638  1.462255 -1.154918 -0.290454 -0.413424  0.032396  1.545490   \n",
       "996 -1.514876 -3.221016 -1.300744  0.395599 -0.527994  1.353069  1.777506   \n",
       "997  1.674633  1.754933  1.586154  0.018402 -1.514470  0.321593 -2.417694   \n",
       "998 -0.778609 -0.835689 -0.194842  1.097220  0.180071 -0.272933 -0.533188   \n",
       "999  0.248454 -1.003439  0.360460 -0.331352  1.389764 -1.345210 -0.740875   \n",
       "\n",
       "            7         8         9  \n",
       "0   -1.210161 -0.628077  1.227274  \n",
       "1   -0.984534  0.363896  0.209470  \n",
       "2   -0.246383 -1.058145 -0.297376  \n",
       "3   -0.357445 -1.473127 -0.190039  \n",
       "4   -0.939156  0.175915  0.236224  \n",
       "..        ...       ...       ...  \n",
       "995  1.428760  1.687092  1.072542  \n",
       "996 -1.680870  1.798510  0.034272  \n",
       "997  0.692723 -1.503850  0.225264  \n",
       "998 -0.497354  2.472138  0.867187  \n",
       "999  0.773240  0.185734  1.416412  \n",
       "\n",
       "[1000 rows x 10 columns]"
      ]
     },
     "execution_count": 4,
     "metadata": {},
     "output_type": "execute_result"
    }
   ],
   "source": [
    "pd.DataFrame(x)"
   ]
  },
  {
   "cell_type": "code",
   "execution_count": 5,
   "metadata": {},
   "outputs": [],
   "source": [
    "from sklearn.model_selection import train_test_split\n",
    "x_train,x_test,y_train,y_test=train_test_split(x,y,test_size=0.30,random_state=42)"
   ]
  },
  {
   "cell_type": "code",
   "execution_count": 6,
   "metadata": {},
   "outputs": [],
   "source": [
    "from sklearn.linear_model import LogisticRegression\n",
    "lr=LogisticRegression()"
   ]
  },
  {
   "cell_type": "code",
   "execution_count": 7,
   "metadata": {},
   "outputs": [
    {
     "data": {
      "text/html": [
       "<style>#sk-container-id-1 {color: black;}#sk-container-id-1 pre{padding: 0;}#sk-container-id-1 div.sk-toggleable {background-color: white;}#sk-container-id-1 label.sk-toggleable__label {cursor: pointer;display: block;width: 100%;margin-bottom: 0;padding: 0.3em;box-sizing: border-box;text-align: center;}#sk-container-id-1 label.sk-toggleable__label-arrow:before {content: \"▸\";float: left;margin-right: 0.25em;color: #696969;}#sk-container-id-1 label.sk-toggleable__label-arrow:hover:before {color: black;}#sk-container-id-1 div.sk-estimator:hover label.sk-toggleable__label-arrow:before {color: black;}#sk-container-id-1 div.sk-toggleable__content {max-height: 0;max-width: 0;overflow: hidden;text-align: left;background-color: #f0f8ff;}#sk-container-id-1 div.sk-toggleable__content pre {margin: 0.2em;color: black;border-radius: 0.25em;background-color: #f0f8ff;}#sk-container-id-1 input.sk-toggleable__control:checked~div.sk-toggleable__content {max-height: 200px;max-width: 100%;overflow: auto;}#sk-container-id-1 input.sk-toggleable__control:checked~label.sk-toggleable__label-arrow:before {content: \"▾\";}#sk-container-id-1 div.sk-estimator input.sk-toggleable__control:checked~label.sk-toggleable__label {background-color: #d4ebff;}#sk-container-id-1 div.sk-label input.sk-toggleable__control:checked~label.sk-toggleable__label {background-color: #d4ebff;}#sk-container-id-1 input.sk-hidden--visually {border: 0;clip: rect(1px 1px 1px 1px);clip: rect(1px, 1px, 1px, 1px);height: 1px;margin: -1px;overflow: hidden;padding: 0;position: absolute;width: 1px;}#sk-container-id-1 div.sk-estimator {font-family: monospace;background-color: #f0f8ff;border: 1px dotted black;border-radius: 0.25em;box-sizing: border-box;margin-bottom: 0.5em;}#sk-container-id-1 div.sk-estimator:hover {background-color: #d4ebff;}#sk-container-id-1 div.sk-parallel-item::after {content: \"\";width: 100%;border-bottom: 1px solid gray;flex-grow: 1;}#sk-container-id-1 div.sk-label:hover label.sk-toggleable__label {background-color: #d4ebff;}#sk-container-id-1 div.sk-serial::before {content: \"\";position: absolute;border-left: 1px solid gray;box-sizing: border-box;top: 0;bottom: 0;left: 50%;z-index: 0;}#sk-container-id-1 div.sk-serial {display: flex;flex-direction: column;align-items: center;background-color: white;padding-right: 0.2em;padding-left: 0.2em;position: relative;}#sk-container-id-1 div.sk-item {position: relative;z-index: 1;}#sk-container-id-1 div.sk-parallel {display: flex;align-items: stretch;justify-content: center;background-color: white;position: relative;}#sk-container-id-1 div.sk-item::before, #sk-container-id-1 div.sk-parallel-item::before {content: \"\";position: absolute;border-left: 1px solid gray;box-sizing: border-box;top: 0;bottom: 0;left: 50%;z-index: -1;}#sk-container-id-1 div.sk-parallel-item {display: flex;flex-direction: column;z-index: 1;position: relative;background-color: white;}#sk-container-id-1 div.sk-parallel-item:first-child::after {align-self: flex-end;width: 50%;}#sk-container-id-1 div.sk-parallel-item:last-child::after {align-self: flex-start;width: 50%;}#sk-container-id-1 div.sk-parallel-item:only-child::after {width: 0;}#sk-container-id-1 div.sk-dashed-wrapped {border: 1px dashed gray;margin: 0 0.4em 0.5em 0.4em;box-sizing: border-box;padding-bottom: 0.4em;background-color: white;}#sk-container-id-1 div.sk-label label {font-family: monospace;font-weight: bold;display: inline-block;line-height: 1.2em;}#sk-container-id-1 div.sk-label-container {text-align: center;}#sk-container-id-1 div.sk-container {/* jupyter's `normalize.less` sets `[hidden] { display: none; }` but bootstrap.min.css set `[hidden] { display: none !important; }` so we also need the `!important` here to be able to override the default hidden behavior on the sphinx rendered scikit-learn.org. See: https://github.com/scikit-learn/scikit-learn/issues/21755 */display: inline-block !important;position: relative;}#sk-container-id-1 div.sk-text-repr-fallback {display: none;}</style><div id=\"sk-container-id-1\" class=\"sk-top-container\"><div class=\"sk-text-repr-fallback\"><pre>LogisticRegression()</pre><b>In a Jupyter environment, please rerun this cell to show the HTML representation or trust the notebook. <br />On GitHub, the HTML representation is unable to render, please try loading this page with nbviewer.org.</b></div><div class=\"sk-container\" hidden><div class=\"sk-item\"><div class=\"sk-estimator sk-toggleable\"><input class=\"sk-toggleable__control sk-hidden--visually\" id=\"sk-estimator-id-1\" type=\"checkbox\" checked><label for=\"sk-estimator-id-1\" class=\"sk-toggleable__label sk-toggleable__label-arrow\">LogisticRegression</label><div class=\"sk-toggleable__content\"><pre>LogisticRegression()</pre></div></div></div></div></div>"
      ],
      "text/plain": [
       "LogisticRegression()"
      ]
     },
     "execution_count": 7,
     "metadata": {},
     "output_type": "execute_result"
    }
   ],
   "source": [
    "lr.fit(x_train,y_train)"
   ]
  },
  {
   "cell_type": "code",
   "execution_count": 8,
   "metadata": {},
   "outputs": [
    {
     "data": {
      "text/plain": [
       "array([0, 1, 0, 1, 0, 1, 0, 0, 0, 0, 0, 1, 0, 1, 0, 0, 1, 1, 1, 1, 0, 0,\n",
       "       1, 0, 0, 1, 0, 0, 1, 1, 1, 1, 0, 0, 0, 0, 1, 1, 1, 1, 0, 1, 1, 0,\n",
       "       0, 0, 1, 1, 1, 1, 0, 1, 0, 0, 1, 0, 1, 0, 1, 0, 1, 0, 0, 1, 1, 1,\n",
       "       0, 0, 1, 1, 1, 1, 1, 0, 1, 0, 0, 1, 0, 1, 0, 0, 1, 0, 1, 0, 0, 0,\n",
       "       0, 1, 1, 1, 1, 1, 1, 1, 0, 0, 1, 0, 1, 0, 1, 0, 0, 1, 0, 1, 1, 1,\n",
       "       1, 1, 1, 1, 1, 0, 0, 1, 0, 0, 1, 1, 0, 1, 1, 1, 1, 1, 1, 1, 1, 0,\n",
       "       1, 1, 1, 1, 0, 0, 0, 1, 1, 0, 0, 0, 0, 0, 1, 0, 0, 0, 1, 0, 0, 1,\n",
       "       0, 0, 1, 0, 1, 1, 0, 1, 0, 0, 0, 0, 0, 0, 0, 1, 1, 0, 0, 0, 1, 1,\n",
       "       0, 0, 1, 1, 1, 1, 1, 1, 1, 0, 0, 0, 0, 1, 0, 0, 0, 0, 1, 0, 0, 1,\n",
       "       1, 1, 0, 1, 0, 0, 0, 1, 1, 1, 1, 1, 0, 0, 0, 0, 0, 1, 0, 1, 0, 1,\n",
       "       1, 0, 0, 1, 1, 1, 0, 1, 1, 0, 0, 0, 0, 0, 0, 0, 0, 0, 1, 1, 0, 1,\n",
       "       0, 1, 1, 0, 1, 0, 1, 0, 1, 1, 1, 0, 0, 1, 1, 1, 1, 0, 1, 0, 1, 1,\n",
       "       0, 0, 0, 1, 1, 0, 1, 1, 0, 0, 1, 0, 0, 0, 0, 1, 1, 0, 1, 0, 1, 1,\n",
       "       1, 0, 0, 1, 0, 1, 1, 0, 1, 1, 1, 1, 1, 0])"
      ]
     },
     "execution_count": 8,
     "metadata": {},
     "output_type": "execute_result"
    }
   ],
   "source": [
    "y_preds = lr.predict(x_test)\n",
    "y_preds"
   ]
  },
  {
   "cell_type": "code",
   "execution_count": 9,
   "metadata": {},
   "outputs": [
    {
     "data": {
      "text/plain": [
       "array([[7.74481865e-01, 2.25518135e-01],\n",
       "       [3.36701953e-02, 9.66329805e-01],\n",
       "       [6.70684311e-01, 3.29315689e-01],\n",
       "       [7.98688284e-02, 9.20131172e-01],\n",
       "       [9.76617515e-01, 2.33824847e-02],\n",
       "       [4.13590037e-02, 9.58640996e-01],\n",
       "       [9.79029806e-01, 2.09701936e-02],\n",
       "       [9.59367633e-01, 4.06323668e-02],\n",
       "       [8.08516510e-01, 1.91483490e-01],\n",
       "       [6.84961496e-01, 3.15038504e-01],\n",
       "       [9.13670314e-01, 8.63296857e-02],\n",
       "       [2.63599422e-01, 7.36400578e-01],\n",
       "       [5.25846966e-01, 4.74153034e-01],\n",
       "       [2.11919907e-01, 7.88080093e-01],\n",
       "       [7.93598597e-01, 2.06401403e-01],\n",
       "       [9.46623760e-01, 5.33762402e-02],\n",
       "       [2.62972095e-02, 9.73702790e-01],\n",
       "       [3.24226362e-01, 6.75773638e-01],\n",
       "       [3.14809449e-01, 6.85190551e-01],\n",
       "       [2.04954712e-01, 7.95045288e-01],\n",
       "       [5.04587814e-01, 4.95412186e-01],\n",
       "       [9.66703959e-01, 3.32960407e-02],\n",
       "       [2.00518184e-01, 7.99481816e-01],\n",
       "       [7.77899761e-01, 2.22100239e-01],\n",
       "       [8.72991320e-01, 1.27008680e-01],\n",
       "       [4.01992876e-02, 9.59800712e-01],\n",
       "       [9.21219173e-01, 7.87808267e-02],\n",
       "       [8.14309281e-01, 1.85690719e-01],\n",
       "       [4.84332824e-01, 5.15667176e-01],\n",
       "       [3.45972984e-01, 6.54027016e-01],\n",
       "       [6.82537540e-02, 9.31746246e-01],\n",
       "       [5.40131363e-04, 9.99459869e-01],\n",
       "       [9.69329547e-01, 3.06704527e-02],\n",
       "       [9.72909700e-01, 2.70903002e-02],\n",
       "       [9.42368579e-01, 5.76314206e-02],\n",
       "       [5.19297868e-01, 4.80702132e-01],\n",
       "       [8.46485360e-02, 9.15351464e-01],\n",
       "       [3.25973489e-01, 6.74026511e-01],\n",
       "       [4.76896441e-01, 5.23103559e-01],\n",
       "       [1.53792182e-04, 9.99846208e-01],\n",
       "       [9.15876864e-01, 8.41231355e-02],\n",
       "       [8.64941639e-02, 9.13505836e-01],\n",
       "       [4.79534466e-01, 5.20465534e-01],\n",
       "       [9.35684881e-01, 6.43151186e-02],\n",
       "       [9.77892432e-01, 2.21075678e-02],\n",
       "       [5.85647729e-01, 4.14352271e-01],\n",
       "       [1.57850274e-02, 9.84214973e-01],\n",
       "       [7.62153473e-02, 9.23784653e-01],\n",
       "       [1.34856191e-02, 9.86514381e-01],\n",
       "       [5.30434207e-02, 9.46956579e-01],\n",
       "       [8.06446491e-01, 1.93553509e-01],\n",
       "       [4.80640441e-03, 9.95193596e-01],\n",
       "       [5.04842439e-01, 4.95157561e-01],\n",
       "       [8.68426696e-01, 1.31573304e-01],\n",
       "       [8.92672785e-03, 9.91073272e-01],\n",
       "       [5.92496250e-01, 4.07503750e-01],\n",
       "       [1.57436250e-01, 8.42563750e-01],\n",
       "       [9.76377528e-01, 2.36224722e-02],\n",
       "       [9.85841380e-02, 9.01415862e-01],\n",
       "       [9.04180754e-01, 9.58192457e-02],\n",
       "       [6.72500548e-03, 9.93274995e-01],\n",
       "       [6.94841326e-01, 3.05158674e-01],\n",
       "       [7.57556928e-01, 2.42443072e-01],\n",
       "       [3.10058692e-02, 9.68994131e-01],\n",
       "       [3.06678156e-01, 6.93321844e-01],\n",
       "       [1.74768485e-01, 8.25231515e-01],\n",
       "       [8.36521054e-01, 1.63478946e-01],\n",
       "       [8.97502104e-01, 1.02497896e-01],\n",
       "       [3.36206495e-01, 6.63793505e-01],\n",
       "       [1.63594256e-01, 8.36405744e-01],\n",
       "       [3.22760752e-01, 6.77239248e-01],\n",
       "       [4.48407621e-02, 9.55159238e-01],\n",
       "       [2.14636531e-04, 9.99785363e-01],\n",
       "       [9.68626945e-01, 3.13730548e-02],\n",
       "       [1.85288140e-01, 8.14711860e-01],\n",
       "       [8.76098052e-01, 1.23901948e-01],\n",
       "       [9.74553011e-01, 2.54469887e-02],\n",
       "       [1.69197167e-03, 9.98308028e-01],\n",
       "       [9.42492972e-01, 5.75070276e-02],\n",
       "       [1.66995263e-01, 8.33004737e-01],\n",
       "       [7.93679632e-01, 2.06320368e-01],\n",
       "       [9.40837464e-01, 5.91625357e-02],\n",
       "       [1.01615314e-01, 8.98384686e-01],\n",
       "       [8.74076764e-01, 1.25923236e-01],\n",
       "       [2.28543145e-04, 9.99771457e-01],\n",
       "       [8.78527123e-01, 1.21472877e-01],\n",
       "       [8.44947807e-01, 1.55052193e-01],\n",
       "       [8.53359591e-01, 1.46640409e-01],\n",
       "       [8.69064992e-01, 1.30935008e-01],\n",
       "       [1.28583877e-01, 8.71416123e-01],\n",
       "       [2.73400137e-03, 9.97265999e-01],\n",
       "       [2.14411341e-02, 9.78558866e-01],\n",
       "       [1.08234081e-01, 8.91765919e-01],\n",
       "       [2.63736527e-01, 7.36263473e-01],\n",
       "       [5.78022690e-02, 9.42197731e-01],\n",
       "       [2.16043961e-01, 7.83956039e-01],\n",
       "       [9.32822742e-01, 6.71772580e-02],\n",
       "       [9.41557827e-01, 5.84421729e-02],\n",
       "       [4.08775347e-01, 5.91224653e-01],\n",
       "       [9.17169218e-01, 8.28307822e-02],\n",
       "       [4.74766726e-03, 9.95252333e-01],\n",
       "       [9.38740890e-01, 6.12591101e-02],\n",
       "       [1.56657301e-02, 9.84334270e-01],\n",
       "       [9.97834478e-01, 2.16552153e-03],\n",
       "       [9.91498842e-01, 8.50115780e-03],\n",
       "       [2.95811194e-01, 7.04188806e-01],\n",
       "       [9.79658129e-01, 2.03418708e-02],\n",
       "       [4.24497885e-03, 9.95755021e-01],\n",
       "       [4.46640159e-01, 5.53359841e-01],\n",
       "       [1.04695114e-01, 8.95304886e-01],\n",
       "       [1.74853656e-01, 8.25146344e-01],\n",
       "       [6.03245449e-02, 9.39675455e-01],\n",
       "       [6.56140824e-02, 9.34385918e-01],\n",
       "       [1.19932755e-01, 8.80067245e-01],\n",
       "       [8.58139148e-03, 9.91418609e-01],\n",
       "       [8.59877793e-01, 1.40122207e-01],\n",
       "       [6.84720111e-01, 3.15279889e-01],\n",
       "       [1.95239503e-01, 8.04760497e-01],\n",
       "       [9.82842411e-01, 1.71575890e-02],\n",
       "       [9.47845022e-01, 5.21549784e-02],\n",
       "       [6.97673013e-04, 9.99302327e-01],\n",
       "       [3.92559718e-02, 9.60744028e-01],\n",
       "       [9.40312854e-01, 5.96871456e-02],\n",
       "       [2.89286381e-02, 9.71071362e-01],\n",
       "       [5.42289824e-02, 9.45771018e-01],\n",
       "       [1.63545398e-01, 8.36454602e-01],\n",
       "       [2.30250688e-03, 9.97697493e-01],\n",
       "       [1.31065468e-01, 8.68934532e-01],\n",
       "       [7.18456043e-02, 9.28154396e-01],\n",
       "       [5.19761272e-03, 9.94802387e-01],\n",
       "       [1.66745837e-01, 8.33254163e-01],\n",
       "       [8.64726781e-01, 1.35273219e-01],\n",
       "       [2.03825685e-01, 7.96174315e-01],\n",
       "       [3.85209992e-02, 9.61479001e-01],\n",
       "       [4.25742886e-01, 5.74257114e-01],\n",
       "       [1.22170814e-01, 8.77829186e-01],\n",
       "       [9.69782987e-01, 3.02170132e-02],\n",
       "       [8.44239030e-01, 1.55760970e-01],\n",
       "       [9.51010813e-01, 4.89891866e-02],\n",
       "       [3.65223925e-02, 9.63477607e-01],\n",
       "       [2.97238616e-01, 7.02761384e-01],\n",
       "       [9.83931108e-01, 1.60688920e-02],\n",
       "       [8.50485458e-01, 1.49514542e-01],\n",
       "       [9.69227221e-01, 3.07727794e-02],\n",
       "       [5.70768012e-01, 4.29231988e-01],\n",
       "       [6.08976444e-01, 3.91023556e-01],\n",
       "       [1.52019067e-03, 9.98479809e-01],\n",
       "       [9.05745569e-01, 9.42544308e-02],\n",
       "       [9.84756939e-01, 1.52430607e-02],\n",
       "       [9.88123177e-01, 1.18768231e-02],\n",
       "       [2.69251140e-02, 9.73074886e-01],\n",
       "       [9.93780698e-01, 6.21930198e-03],\n",
       "       [9.23254454e-01, 7.67455462e-02],\n",
       "       [4.96000594e-01, 5.03999406e-01],\n",
       "       [9.29593709e-01, 7.04062907e-02],\n",
       "       [9.83111918e-01, 1.68880817e-02],\n",
       "       [3.74697480e-03, 9.96253025e-01],\n",
       "       [9.41062693e-01, 5.89373066e-02],\n",
       "       [4.83202797e-01, 5.16797203e-01],\n",
       "       [1.28935173e-01, 8.71064827e-01],\n",
       "       [9.66521035e-01, 3.34789653e-02],\n",
       "       [9.51215587e-02, 9.04878441e-01],\n",
       "       [8.98677902e-01, 1.01322098e-01],\n",
       "       [9.34913945e-01, 6.50860555e-02],\n",
       "       [8.83540452e-01, 1.16459548e-01],\n",
       "       [7.75754015e-01, 2.24245985e-01],\n",
       "       [8.74341146e-01, 1.25658854e-01],\n",
       "       [8.47578762e-01, 1.52421238e-01],\n",
       "       [9.62575606e-01, 3.74243942e-02],\n",
       "       [2.72316024e-01, 7.27683976e-01],\n",
       "       [1.02520173e-01, 8.97479827e-01],\n",
       "       [5.00237888e-01, 4.99762112e-01],\n",
       "       [8.54022574e-01, 1.45977426e-01],\n",
       "       [9.18044055e-01, 8.19559450e-02],\n",
       "       [1.42417516e-01, 8.57582484e-01],\n",
       "       [5.78345565e-02, 9.42165444e-01],\n",
       "       [8.08097044e-01, 1.91902956e-01],\n",
       "       [5.20477079e-01, 4.79522921e-01],\n",
       "       [1.34065429e-01, 8.65934571e-01],\n",
       "       [9.08221455e-02, 9.09177855e-01],\n",
       "       [8.49746926e-03, 9.91502531e-01],\n",
       "       [2.60308357e-01, 7.39691643e-01],\n",
       "       [5.84156069e-02, 9.41584393e-01],\n",
       "       [3.63803552e-02, 9.63619645e-01],\n",
       "       [1.19269549e-01, 8.80730451e-01],\n",
       "       [7.89893915e-01, 2.10106085e-01],\n",
       "       [8.43223196e-01, 1.56776804e-01],\n",
       "       [9.98692315e-01, 1.30768462e-03],\n",
       "       [8.78879748e-01, 1.21120252e-01],\n",
       "       [3.56788101e-02, 9.64321190e-01],\n",
       "       [6.03056823e-01, 3.96943177e-01],\n",
       "       [9.86431468e-01, 1.35685316e-02],\n",
       "       [7.93147418e-01, 2.06852582e-01],\n",
       "       [8.47471429e-01, 1.52528571e-01],\n",
       "       [1.13681024e-01, 8.86318976e-01],\n",
       "       [8.19144936e-01, 1.80855064e-01],\n",
       "       [8.96157436e-01, 1.03842564e-01],\n",
       "       [9.08684103e-02, 9.09131590e-01],\n",
       "       [1.34430955e-02, 9.86556905e-01],\n",
       "       [6.36423872e-03, 9.93635761e-01],\n",
       "       [8.98003490e-01, 1.01996510e-01],\n",
       "       [1.42697682e-02, 9.85730232e-01],\n",
       "       [6.47051534e-01, 3.52948466e-01],\n",
       "       [6.45803242e-01, 3.54196758e-01],\n",
       "       [8.98932746e-01, 1.01067254e-01],\n",
       "       [3.98254483e-01, 6.01745517e-01],\n",
       "       [4.78063005e-02, 9.52193700e-01],\n",
       "       [1.25482536e-01, 8.74517464e-01],\n",
       "       [4.58966773e-04, 9.99541033e-01],\n",
       "       [1.81793809e-01, 8.18206191e-01],\n",
       "       [9.76613816e-01, 2.33861841e-02],\n",
       "       [9.05274286e-01, 9.47257137e-02],\n",
       "       [7.81835426e-01, 2.18164574e-01],\n",
       "       [9.35072370e-01, 6.49276298e-02],\n",
       "       [9.77101449e-01, 2.28985506e-02],\n",
       "       [4.05115858e-01, 5.94884142e-01],\n",
       "       [9.51059930e-01, 4.89400698e-02],\n",
       "       [1.38472467e-03, 9.98615275e-01],\n",
       "       [8.12440196e-01, 1.87559804e-01],\n",
       "       [2.25592515e-01, 7.74407485e-01],\n",
       "       [2.36374312e-01, 7.63625688e-01],\n",
       "       [8.08299917e-01, 1.91700083e-01],\n",
       "       [9.36603168e-01, 6.33968322e-02],\n",
       "       [1.88735249e-02, 9.81126475e-01],\n",
       "       [1.77460025e-01, 8.22539975e-01],\n",
       "       [2.46437562e-02, 9.75356244e-01],\n",
       "       [8.70664788e-01, 1.29335212e-01],\n",
       "       [9.63075851e-04, 9.99036924e-01],\n",
       "       [8.29865504e-02, 9.17013450e-01],\n",
       "       [9.78392869e-01, 2.16071311e-02],\n",
       "       [9.69095602e-01, 3.09043980e-02],\n",
       "       [7.81409686e-01, 2.18590314e-01],\n",
       "       [9.96733275e-01, 3.26672513e-03],\n",
       "       [9.57755578e-01, 4.22444220e-02],\n",
       "       [8.04248877e-01, 1.95751123e-01],\n",
       "       [9.61517522e-01, 3.84824778e-02],\n",
       "       [9.97874659e-01, 2.12534085e-03],\n",
       "       [9.24711686e-01, 7.52883138e-02],\n",
       "       [2.42346010e-02, 9.75765399e-01],\n",
       "       [1.35493128e-01, 8.64506872e-01],\n",
       "       [9.93125860e-01, 6.87414044e-03],\n",
       "       [3.44926809e-03, 9.96550732e-01],\n",
       "       [7.44652070e-01, 2.55347930e-01],\n",
       "       [1.36444131e-01, 8.63555869e-01],\n",
       "       [2.40979535e-02, 9.75902046e-01],\n",
       "       [8.43426032e-01, 1.56573968e-01],\n",
       "       [1.45788436e-04, 9.99854212e-01],\n",
       "       [9.40089263e-01, 5.99107368e-02],\n",
       "       [1.05127669e-02, 9.89487233e-01],\n",
       "       [7.86959717e-01, 2.13040283e-01],\n",
       "       [7.24052243e-02, 9.27594776e-01],\n",
       "       [4.59900226e-01, 5.40099774e-01],\n",
       "       [4.78129992e-01, 5.21870008e-01],\n",
       "       [9.84777199e-01, 1.52228013e-02],\n",
       "       [9.27077179e-01, 7.29228213e-02],\n",
       "       [6.48952060e-03, 9.93510479e-01],\n",
       "       [5.64521972e-02, 9.43547803e-01],\n",
       "       [3.32902546e-02, 9.66709745e-01],\n",
       "       [2.84423727e-03, 9.97155763e-01],\n",
       "       [9.84839839e-01, 1.51601607e-02],\n",
       "       [2.32776846e-01, 7.67223154e-01],\n",
       "       [5.81291922e-01, 4.18708078e-01],\n",
       "       [6.14520121e-02, 9.38547988e-01],\n",
       "       [2.20628779e-02, 9.77937122e-01],\n",
       "       [9.97792652e-01, 2.20734794e-03],\n",
       "       [9.69145599e-01, 3.08544007e-02],\n",
       "       [6.10738877e-01, 3.89261123e-01],\n",
       "       [4.52029934e-03, 9.95479701e-01],\n",
       "       [5.22485488e-03, 9.94775145e-01],\n",
       "       [8.38893325e-01, 1.61106675e-01],\n",
       "       [2.94097052e-02, 9.70590295e-01],\n",
       "       [2.44818311e-02, 9.75518169e-01],\n",
       "       [5.04737096e-01, 4.95262904e-01],\n",
       "       [9.96970942e-01, 3.02905783e-03],\n",
       "       [4.38371748e-01, 5.61628252e-01],\n",
       "       [7.55540093e-01, 2.44459907e-01],\n",
       "       [7.21771966e-01, 2.78228034e-01],\n",
       "       [9.15380208e-01, 8.46197921e-02],\n",
       "       [9.55610942e-01, 4.43890578e-02],\n",
       "       [1.49460460e-01, 8.50539540e-01],\n",
       "       [4.73409051e-01, 5.26590949e-01],\n",
       "       [8.82431144e-01, 1.17568856e-01],\n",
       "       [1.02707612e-02, 9.89729239e-01],\n",
       "       [9.86046846e-01, 1.39531536e-02],\n",
       "       [1.41032967e-01, 8.58967033e-01],\n",
       "       [1.44358323e-01, 8.55641677e-01],\n",
       "       [4.31392623e-04, 9.99568607e-01],\n",
       "       [8.21144889e-01, 1.78855111e-01],\n",
       "       [9.60789878e-01, 3.92101221e-02],\n",
       "       [7.05652583e-03, 9.92943474e-01],\n",
       "       [8.69526443e-01, 1.30473557e-01],\n",
       "       [4.76296467e-02, 9.52370353e-01],\n",
       "       [3.64455780e-01, 6.35544220e-01],\n",
       "       [7.16395657e-01, 2.83604343e-01],\n",
       "       [4.75936227e-01, 5.24063773e-01],\n",
       "       [2.76519062e-01, 7.23480938e-01],\n",
       "       [1.77151018e-01, 8.22848982e-01],\n",
       "       [3.87696775e-01, 6.12303225e-01],\n",
       "       [8.73576301e-02, 9.12642370e-01],\n",
       "       [8.74641465e-01, 1.25358535e-01]])"
      ]
     },
     "execution_count": 9,
     "metadata": {},
     "output_type": "execute_result"
    }
   ],
   "source": [
    "lr.predict_proba(x_test)"
   ]
  },
  {
   "cell_type": "code",
   "execution_count": 10,
   "metadata": {},
   "outputs": [],
   "source": [
    "from sklearn.metrics import accuracy_score,confusion_matrix,classification_report"
   ]
  },
  {
   "cell_type": "code",
   "execution_count": 11,
   "metadata": {},
   "outputs": [
    {
     "name": "stdout",
     "output_type": "stream",
     "text": [
      "0.8466666666666667\n",
      "[[118  17]\n",
      " [ 29 136]]\n",
      "              precision    recall  f1-score   support\n",
      "\n",
      "           0       0.80      0.87      0.84       135\n",
      "           1       0.89      0.82      0.86       165\n",
      "\n",
      "    accuracy                           0.85       300\n",
      "   macro avg       0.85      0.85      0.85       300\n",
      "weighted avg       0.85      0.85      0.85       300\n",
      "\n"
     ]
    }
   ],
   "source": [
    "score=accuracy_score(y_test,y_preds)\n",
    "print(score)\n",
    "cm=confusion_matrix(y_test,y_preds)\n",
    "print(cm)\n",
    "print(classification_report(y_test,y_preds))"
   ]
  },
  {
   "cell_type": "markdown",
   "metadata": {},
   "source": [
    "# hyperparameter tuning"
   ]
  },
  {
   "cell_type": "code",
   "execution_count": 12,
   "metadata": {},
   "outputs": [],
   "source": [
    "model=LogisticRegression()\n",
    "c_values=[100,10,1.0,0.1,0.01]\n",
    "solver=['newton-cg','lbfgs','liblinear','sag','saga']"
   ]
  },
  {
   "cell_type": "code",
   "execution_count": 13,
   "metadata": {},
   "outputs": [],
   "source": [
    "params=dict(C=c_values,solver=solver)"
   ]
  },
  {
   "cell_type": "code",
   "execution_count": 14,
   "metadata": {},
   "outputs": [],
   "source": [
    "from sklearn.model_selection import StratifiedKFold\n",
    "cv=StratifiedKFold()"
   ]
  },
  {
   "cell_type": "code",
   "execution_count": 15,
   "metadata": {},
   "outputs": [],
   "source": [
    "from sklearn.model_selection import GridSearchCV\n",
    "grid=GridSearchCV(estimator=model,param_grid=params,scoring='accuracy',cv=cv,n_jobs=-1)"
   ]
  },
  {
   "cell_type": "code",
   "execution_count": 16,
   "metadata": {},
   "outputs": [
    {
     "data": {
      "text/html": [
       "<style>#sk-container-id-2 {color: black;}#sk-container-id-2 pre{padding: 0;}#sk-container-id-2 div.sk-toggleable {background-color: white;}#sk-container-id-2 label.sk-toggleable__label {cursor: pointer;display: block;width: 100%;margin-bottom: 0;padding: 0.3em;box-sizing: border-box;text-align: center;}#sk-container-id-2 label.sk-toggleable__label-arrow:before {content: \"▸\";float: left;margin-right: 0.25em;color: #696969;}#sk-container-id-2 label.sk-toggleable__label-arrow:hover:before {color: black;}#sk-container-id-2 div.sk-estimator:hover label.sk-toggleable__label-arrow:before {color: black;}#sk-container-id-2 div.sk-toggleable__content {max-height: 0;max-width: 0;overflow: hidden;text-align: left;background-color: #f0f8ff;}#sk-container-id-2 div.sk-toggleable__content pre {margin: 0.2em;color: black;border-radius: 0.25em;background-color: #f0f8ff;}#sk-container-id-2 input.sk-toggleable__control:checked~div.sk-toggleable__content {max-height: 200px;max-width: 100%;overflow: auto;}#sk-container-id-2 input.sk-toggleable__control:checked~label.sk-toggleable__label-arrow:before {content: \"▾\";}#sk-container-id-2 div.sk-estimator input.sk-toggleable__control:checked~label.sk-toggleable__label {background-color: #d4ebff;}#sk-container-id-2 div.sk-label input.sk-toggleable__control:checked~label.sk-toggleable__label {background-color: #d4ebff;}#sk-container-id-2 input.sk-hidden--visually {border: 0;clip: rect(1px 1px 1px 1px);clip: rect(1px, 1px, 1px, 1px);height: 1px;margin: -1px;overflow: hidden;padding: 0;position: absolute;width: 1px;}#sk-container-id-2 div.sk-estimator {font-family: monospace;background-color: #f0f8ff;border: 1px dotted black;border-radius: 0.25em;box-sizing: border-box;margin-bottom: 0.5em;}#sk-container-id-2 div.sk-estimator:hover {background-color: #d4ebff;}#sk-container-id-2 div.sk-parallel-item::after {content: \"\";width: 100%;border-bottom: 1px solid gray;flex-grow: 1;}#sk-container-id-2 div.sk-label:hover label.sk-toggleable__label {background-color: #d4ebff;}#sk-container-id-2 div.sk-serial::before {content: \"\";position: absolute;border-left: 1px solid gray;box-sizing: border-box;top: 0;bottom: 0;left: 50%;z-index: 0;}#sk-container-id-2 div.sk-serial {display: flex;flex-direction: column;align-items: center;background-color: white;padding-right: 0.2em;padding-left: 0.2em;position: relative;}#sk-container-id-2 div.sk-item {position: relative;z-index: 1;}#sk-container-id-2 div.sk-parallel {display: flex;align-items: stretch;justify-content: center;background-color: white;position: relative;}#sk-container-id-2 div.sk-item::before, #sk-container-id-2 div.sk-parallel-item::before {content: \"\";position: absolute;border-left: 1px solid gray;box-sizing: border-box;top: 0;bottom: 0;left: 50%;z-index: -1;}#sk-container-id-2 div.sk-parallel-item {display: flex;flex-direction: column;z-index: 1;position: relative;background-color: white;}#sk-container-id-2 div.sk-parallel-item:first-child::after {align-self: flex-end;width: 50%;}#sk-container-id-2 div.sk-parallel-item:last-child::after {align-self: flex-start;width: 50%;}#sk-container-id-2 div.sk-parallel-item:only-child::after {width: 0;}#sk-container-id-2 div.sk-dashed-wrapped {border: 1px dashed gray;margin: 0 0.4em 0.5em 0.4em;box-sizing: border-box;padding-bottom: 0.4em;background-color: white;}#sk-container-id-2 div.sk-label label {font-family: monospace;font-weight: bold;display: inline-block;line-height: 1.2em;}#sk-container-id-2 div.sk-label-container {text-align: center;}#sk-container-id-2 div.sk-container {/* jupyter's `normalize.less` sets `[hidden] { display: none; }` but bootstrap.min.css set `[hidden] { display: none !important; }` so we also need the `!important` here to be able to override the default hidden behavior on the sphinx rendered scikit-learn.org. See: https://github.com/scikit-learn/scikit-learn/issues/21755 */display: inline-block !important;position: relative;}#sk-container-id-2 div.sk-text-repr-fallback {display: none;}</style><div id=\"sk-container-id-2\" class=\"sk-top-container\"><div class=\"sk-text-repr-fallback\"><pre>GridSearchCV(cv=StratifiedKFold(n_splits=5, random_state=None, shuffle=False),\n",
       "             estimator=LogisticRegression(), n_jobs=-1,\n",
       "             param_grid={&#x27;C&#x27;: [100, 10, 1.0, 0.1, 0.01],\n",
       "                         &#x27;solver&#x27;: [&#x27;newton-cg&#x27;, &#x27;lbfgs&#x27;, &#x27;liblinear&#x27;, &#x27;sag&#x27;,\n",
       "                                    &#x27;saga&#x27;]},\n",
       "             scoring=&#x27;accuracy&#x27;)</pre><b>In a Jupyter environment, please rerun this cell to show the HTML representation or trust the notebook. <br />On GitHub, the HTML representation is unable to render, please try loading this page with nbviewer.org.</b></div><div class=\"sk-container\" hidden><div class=\"sk-item sk-dashed-wrapped\"><div class=\"sk-label-container\"><div class=\"sk-label sk-toggleable\"><input class=\"sk-toggleable__control sk-hidden--visually\" id=\"sk-estimator-id-2\" type=\"checkbox\" ><label for=\"sk-estimator-id-2\" class=\"sk-toggleable__label sk-toggleable__label-arrow\">GridSearchCV</label><div class=\"sk-toggleable__content\"><pre>GridSearchCV(cv=StratifiedKFold(n_splits=5, random_state=None, shuffle=False),\n",
       "             estimator=LogisticRegression(), n_jobs=-1,\n",
       "             param_grid={&#x27;C&#x27;: [100, 10, 1.0, 0.1, 0.01],\n",
       "                         &#x27;solver&#x27;: [&#x27;newton-cg&#x27;, &#x27;lbfgs&#x27;, &#x27;liblinear&#x27;, &#x27;sag&#x27;,\n",
       "                                    &#x27;saga&#x27;]},\n",
       "             scoring=&#x27;accuracy&#x27;)</pre></div></div></div><div class=\"sk-parallel\"><div class=\"sk-parallel-item\"><div class=\"sk-item\"><div class=\"sk-label-container\"><div class=\"sk-label sk-toggleable\"><input class=\"sk-toggleable__control sk-hidden--visually\" id=\"sk-estimator-id-3\" type=\"checkbox\" ><label for=\"sk-estimator-id-3\" class=\"sk-toggleable__label sk-toggleable__label-arrow\">estimator: LogisticRegression</label><div class=\"sk-toggleable__content\"><pre>LogisticRegression()</pre></div></div></div><div class=\"sk-serial\"><div class=\"sk-item\"><div class=\"sk-estimator sk-toggleable\"><input class=\"sk-toggleable__control sk-hidden--visually\" id=\"sk-estimator-id-4\" type=\"checkbox\" ><label for=\"sk-estimator-id-4\" class=\"sk-toggleable__label sk-toggleable__label-arrow\">LogisticRegression</label><div class=\"sk-toggleable__content\"><pre>LogisticRegression()</pre></div></div></div></div></div></div></div></div></div></div>"
      ],
      "text/plain": [
       "GridSearchCV(cv=StratifiedKFold(n_splits=5, random_state=None, shuffle=False),\n",
       "             estimator=LogisticRegression(), n_jobs=-1,\n",
       "             param_grid={'C': [100, 10, 1.0, 0.1, 0.01],\n",
       "                         'solver': ['newton-cg', 'lbfgs', 'liblinear', 'sag',\n",
       "                                    'saga']},\n",
       "             scoring='accuracy')"
      ]
     },
     "execution_count": 16,
     "metadata": {},
     "output_type": "execute_result"
    }
   ],
   "source": [
    "grid"
   ]
  },
  {
   "cell_type": "code",
   "execution_count": 17,
   "metadata": {},
   "outputs": [
    {
     "data": {
      "text/html": [
       "<style>#sk-container-id-3 {color: black;}#sk-container-id-3 pre{padding: 0;}#sk-container-id-3 div.sk-toggleable {background-color: white;}#sk-container-id-3 label.sk-toggleable__label {cursor: pointer;display: block;width: 100%;margin-bottom: 0;padding: 0.3em;box-sizing: border-box;text-align: center;}#sk-container-id-3 label.sk-toggleable__label-arrow:before {content: \"▸\";float: left;margin-right: 0.25em;color: #696969;}#sk-container-id-3 label.sk-toggleable__label-arrow:hover:before {color: black;}#sk-container-id-3 div.sk-estimator:hover label.sk-toggleable__label-arrow:before {color: black;}#sk-container-id-3 div.sk-toggleable__content {max-height: 0;max-width: 0;overflow: hidden;text-align: left;background-color: #f0f8ff;}#sk-container-id-3 div.sk-toggleable__content pre {margin: 0.2em;color: black;border-radius: 0.25em;background-color: #f0f8ff;}#sk-container-id-3 input.sk-toggleable__control:checked~div.sk-toggleable__content {max-height: 200px;max-width: 100%;overflow: auto;}#sk-container-id-3 input.sk-toggleable__control:checked~label.sk-toggleable__label-arrow:before {content: \"▾\";}#sk-container-id-3 div.sk-estimator input.sk-toggleable__control:checked~label.sk-toggleable__label {background-color: #d4ebff;}#sk-container-id-3 div.sk-label input.sk-toggleable__control:checked~label.sk-toggleable__label {background-color: #d4ebff;}#sk-container-id-3 input.sk-hidden--visually {border: 0;clip: rect(1px 1px 1px 1px);clip: rect(1px, 1px, 1px, 1px);height: 1px;margin: -1px;overflow: hidden;padding: 0;position: absolute;width: 1px;}#sk-container-id-3 div.sk-estimator {font-family: monospace;background-color: #f0f8ff;border: 1px dotted black;border-radius: 0.25em;box-sizing: border-box;margin-bottom: 0.5em;}#sk-container-id-3 div.sk-estimator:hover {background-color: #d4ebff;}#sk-container-id-3 div.sk-parallel-item::after {content: \"\";width: 100%;border-bottom: 1px solid gray;flex-grow: 1;}#sk-container-id-3 div.sk-label:hover label.sk-toggleable__label {background-color: #d4ebff;}#sk-container-id-3 div.sk-serial::before {content: \"\";position: absolute;border-left: 1px solid gray;box-sizing: border-box;top: 0;bottom: 0;left: 50%;z-index: 0;}#sk-container-id-3 div.sk-serial {display: flex;flex-direction: column;align-items: center;background-color: white;padding-right: 0.2em;padding-left: 0.2em;position: relative;}#sk-container-id-3 div.sk-item {position: relative;z-index: 1;}#sk-container-id-3 div.sk-parallel {display: flex;align-items: stretch;justify-content: center;background-color: white;position: relative;}#sk-container-id-3 div.sk-item::before, #sk-container-id-3 div.sk-parallel-item::before {content: \"\";position: absolute;border-left: 1px solid gray;box-sizing: border-box;top: 0;bottom: 0;left: 50%;z-index: -1;}#sk-container-id-3 div.sk-parallel-item {display: flex;flex-direction: column;z-index: 1;position: relative;background-color: white;}#sk-container-id-3 div.sk-parallel-item:first-child::after {align-self: flex-end;width: 50%;}#sk-container-id-3 div.sk-parallel-item:last-child::after {align-self: flex-start;width: 50%;}#sk-container-id-3 div.sk-parallel-item:only-child::after {width: 0;}#sk-container-id-3 div.sk-dashed-wrapped {border: 1px dashed gray;margin: 0 0.4em 0.5em 0.4em;box-sizing: border-box;padding-bottom: 0.4em;background-color: white;}#sk-container-id-3 div.sk-label label {font-family: monospace;font-weight: bold;display: inline-block;line-height: 1.2em;}#sk-container-id-3 div.sk-label-container {text-align: center;}#sk-container-id-3 div.sk-container {/* jupyter's `normalize.less` sets `[hidden] { display: none; }` but bootstrap.min.css set `[hidden] { display: none !important; }` so we also need the `!important` here to be able to override the default hidden behavior on the sphinx rendered scikit-learn.org. See: https://github.com/scikit-learn/scikit-learn/issues/21755 */display: inline-block !important;position: relative;}#sk-container-id-3 div.sk-text-repr-fallback {display: none;}</style><div id=\"sk-container-id-3\" class=\"sk-top-container\"><div class=\"sk-text-repr-fallback\"><pre>GridSearchCV(cv=StratifiedKFold(n_splits=5, random_state=None, shuffle=False),\n",
       "             estimator=LogisticRegression(), n_jobs=-1,\n",
       "             param_grid={&#x27;C&#x27;: [100, 10, 1.0, 0.1, 0.01],\n",
       "                         &#x27;solver&#x27;: [&#x27;newton-cg&#x27;, &#x27;lbfgs&#x27;, &#x27;liblinear&#x27;, &#x27;sag&#x27;,\n",
       "                                    &#x27;saga&#x27;]},\n",
       "             scoring=&#x27;accuracy&#x27;)</pre><b>In a Jupyter environment, please rerun this cell to show the HTML representation or trust the notebook. <br />On GitHub, the HTML representation is unable to render, please try loading this page with nbviewer.org.</b></div><div class=\"sk-container\" hidden><div class=\"sk-item sk-dashed-wrapped\"><div class=\"sk-label-container\"><div class=\"sk-label sk-toggleable\"><input class=\"sk-toggleable__control sk-hidden--visually\" id=\"sk-estimator-id-5\" type=\"checkbox\" ><label for=\"sk-estimator-id-5\" class=\"sk-toggleable__label sk-toggleable__label-arrow\">GridSearchCV</label><div class=\"sk-toggleable__content\"><pre>GridSearchCV(cv=StratifiedKFold(n_splits=5, random_state=None, shuffle=False),\n",
       "             estimator=LogisticRegression(), n_jobs=-1,\n",
       "             param_grid={&#x27;C&#x27;: [100, 10, 1.0, 0.1, 0.01],\n",
       "                         &#x27;solver&#x27;: [&#x27;newton-cg&#x27;, &#x27;lbfgs&#x27;, &#x27;liblinear&#x27;, &#x27;sag&#x27;,\n",
       "                                    &#x27;saga&#x27;]},\n",
       "             scoring=&#x27;accuracy&#x27;)</pre></div></div></div><div class=\"sk-parallel\"><div class=\"sk-parallel-item\"><div class=\"sk-item\"><div class=\"sk-label-container\"><div class=\"sk-label sk-toggleable\"><input class=\"sk-toggleable__control sk-hidden--visually\" id=\"sk-estimator-id-6\" type=\"checkbox\" ><label for=\"sk-estimator-id-6\" class=\"sk-toggleable__label sk-toggleable__label-arrow\">estimator: LogisticRegression</label><div class=\"sk-toggleable__content\"><pre>LogisticRegression()</pre></div></div></div><div class=\"sk-serial\"><div class=\"sk-item\"><div class=\"sk-estimator sk-toggleable\"><input class=\"sk-toggleable__control sk-hidden--visually\" id=\"sk-estimator-id-7\" type=\"checkbox\" ><label for=\"sk-estimator-id-7\" class=\"sk-toggleable__label sk-toggleable__label-arrow\">LogisticRegression</label><div class=\"sk-toggleable__content\"><pre>LogisticRegression()</pre></div></div></div></div></div></div></div></div></div></div>"
      ],
      "text/plain": [
       "GridSearchCV(cv=StratifiedKFold(n_splits=5, random_state=None, shuffle=False),\n",
       "             estimator=LogisticRegression(), n_jobs=-1,\n",
       "             param_grid={'C': [100, 10, 1.0, 0.1, 0.01],\n",
       "                         'solver': ['newton-cg', 'lbfgs', 'liblinear', 'sag',\n",
       "                                    'saga']},\n",
       "             scoring='accuracy')"
      ]
     },
     "execution_count": 17,
     "metadata": {},
     "output_type": "execute_result"
    }
   ],
   "source": [
    "grid.fit(x_train,y_train)"
   ]
  },
  {
   "cell_type": "code",
   "execution_count": 18,
   "metadata": {},
   "outputs": [
    {
     "data": {
      "text/plain": [
       "{'C': 0.01, 'solver': 'newton-cg'}"
      ]
     },
     "execution_count": 18,
     "metadata": {},
     "output_type": "execute_result"
    }
   ],
   "source": [
    "grid.best_params_"
   ]
  },
  {
   "cell_type": "code",
   "execution_count": 19,
   "metadata": {},
   "outputs": [
    {
     "data": {
      "text/plain": [
       "0.8785714285714287"
      ]
     },
     "execution_count": 19,
     "metadata": {},
     "output_type": "execute_result"
    }
   ],
   "source": [
    "grid.best_score_"
   ]
  },
  {
   "cell_type": "code",
   "execution_count": 20,
   "metadata": {},
   "outputs": [],
   "source": [
    "y_preds=grid.predict(x_test)"
   ]
  },
  {
   "cell_type": "code",
   "execution_count": 21,
   "metadata": {},
   "outputs": [
    {
     "name": "stdout",
     "output_type": "stream",
     "text": [
      "0.8533333333333334\n",
      "[[124  11]\n",
      " [ 33 132]]\n",
      "              precision    recall  f1-score   support\n",
      "\n",
      "           0       0.79      0.92      0.85       135\n",
      "           1       0.92      0.80      0.86       165\n",
      "\n",
      "    accuracy                           0.85       300\n",
      "   macro avg       0.86      0.86      0.85       300\n",
      "weighted avg       0.86      0.85      0.85       300\n",
      "\n"
     ]
    }
   ],
   "source": [
    "score=accuracy_score(y_test,y_preds)\n",
    "print(score)\n",
    "cm=confusion_matrix(y_test,y_preds)\n",
    "print(cm)\n",
    "print(classification_report(y_test,y_preds))"
   ]
  },
  {
   "cell_type": "code",
   "execution_count": 22,
   "metadata": {},
   "outputs": [],
   "source": [
    "from sklearn.model_selection import RandomizedSearchCV"
   ]
  },
  {
   "cell_type": "code",
   "execution_count": 23,
   "metadata": {},
   "outputs": [],
   "source": [
    "model=LogisticRegression()\n",
    "randomcv=RandomizedSearchCV(estimator=model,param_distributions=params,cv=5,scoring='accuracy',n_jobs=-1)"
   ]
  },
  {
   "cell_type": "code",
   "execution_count": 24,
   "metadata": {},
   "outputs": [
    {
     "data": {
      "text/html": [
       "<style>#sk-container-id-4 {color: black;}#sk-container-id-4 pre{padding: 0;}#sk-container-id-4 div.sk-toggleable {background-color: white;}#sk-container-id-4 label.sk-toggleable__label {cursor: pointer;display: block;width: 100%;margin-bottom: 0;padding: 0.3em;box-sizing: border-box;text-align: center;}#sk-container-id-4 label.sk-toggleable__label-arrow:before {content: \"▸\";float: left;margin-right: 0.25em;color: #696969;}#sk-container-id-4 label.sk-toggleable__label-arrow:hover:before {color: black;}#sk-container-id-4 div.sk-estimator:hover label.sk-toggleable__label-arrow:before {color: black;}#sk-container-id-4 div.sk-toggleable__content {max-height: 0;max-width: 0;overflow: hidden;text-align: left;background-color: #f0f8ff;}#sk-container-id-4 div.sk-toggleable__content pre {margin: 0.2em;color: black;border-radius: 0.25em;background-color: #f0f8ff;}#sk-container-id-4 input.sk-toggleable__control:checked~div.sk-toggleable__content {max-height: 200px;max-width: 100%;overflow: auto;}#sk-container-id-4 input.sk-toggleable__control:checked~label.sk-toggleable__label-arrow:before {content: \"▾\";}#sk-container-id-4 div.sk-estimator input.sk-toggleable__control:checked~label.sk-toggleable__label {background-color: #d4ebff;}#sk-container-id-4 div.sk-label input.sk-toggleable__control:checked~label.sk-toggleable__label {background-color: #d4ebff;}#sk-container-id-4 input.sk-hidden--visually {border: 0;clip: rect(1px 1px 1px 1px);clip: rect(1px, 1px, 1px, 1px);height: 1px;margin: -1px;overflow: hidden;padding: 0;position: absolute;width: 1px;}#sk-container-id-4 div.sk-estimator {font-family: monospace;background-color: #f0f8ff;border: 1px dotted black;border-radius: 0.25em;box-sizing: border-box;margin-bottom: 0.5em;}#sk-container-id-4 div.sk-estimator:hover {background-color: #d4ebff;}#sk-container-id-4 div.sk-parallel-item::after {content: \"\";width: 100%;border-bottom: 1px solid gray;flex-grow: 1;}#sk-container-id-4 div.sk-label:hover label.sk-toggleable__label {background-color: #d4ebff;}#sk-container-id-4 div.sk-serial::before {content: \"\";position: absolute;border-left: 1px solid gray;box-sizing: border-box;top: 0;bottom: 0;left: 50%;z-index: 0;}#sk-container-id-4 div.sk-serial {display: flex;flex-direction: column;align-items: center;background-color: white;padding-right: 0.2em;padding-left: 0.2em;position: relative;}#sk-container-id-4 div.sk-item {position: relative;z-index: 1;}#sk-container-id-4 div.sk-parallel {display: flex;align-items: stretch;justify-content: center;background-color: white;position: relative;}#sk-container-id-4 div.sk-item::before, #sk-container-id-4 div.sk-parallel-item::before {content: \"\";position: absolute;border-left: 1px solid gray;box-sizing: border-box;top: 0;bottom: 0;left: 50%;z-index: -1;}#sk-container-id-4 div.sk-parallel-item {display: flex;flex-direction: column;z-index: 1;position: relative;background-color: white;}#sk-container-id-4 div.sk-parallel-item:first-child::after {align-self: flex-end;width: 50%;}#sk-container-id-4 div.sk-parallel-item:last-child::after {align-self: flex-start;width: 50%;}#sk-container-id-4 div.sk-parallel-item:only-child::after {width: 0;}#sk-container-id-4 div.sk-dashed-wrapped {border: 1px dashed gray;margin: 0 0.4em 0.5em 0.4em;box-sizing: border-box;padding-bottom: 0.4em;background-color: white;}#sk-container-id-4 div.sk-label label {font-family: monospace;font-weight: bold;display: inline-block;line-height: 1.2em;}#sk-container-id-4 div.sk-label-container {text-align: center;}#sk-container-id-4 div.sk-container {/* jupyter's `normalize.less` sets `[hidden] { display: none; }` but bootstrap.min.css set `[hidden] { display: none !important; }` so we also need the `!important` here to be able to override the default hidden behavior on the sphinx rendered scikit-learn.org. See: https://github.com/scikit-learn/scikit-learn/issues/21755 */display: inline-block !important;position: relative;}#sk-container-id-4 div.sk-text-repr-fallback {display: none;}</style><div id=\"sk-container-id-4\" class=\"sk-top-container\"><div class=\"sk-text-repr-fallback\"><pre>RandomizedSearchCV(cv=5, estimator=LogisticRegression(), n_jobs=-1,\n",
       "                   param_distributions={&#x27;C&#x27;: [100, 10, 1.0, 0.1, 0.01],\n",
       "                                        &#x27;solver&#x27;: [&#x27;newton-cg&#x27;, &#x27;lbfgs&#x27;,\n",
       "                                                   &#x27;liblinear&#x27;, &#x27;sag&#x27;,\n",
       "                                                   &#x27;saga&#x27;]},\n",
       "                   scoring=&#x27;accuracy&#x27;)</pre><b>In a Jupyter environment, please rerun this cell to show the HTML representation or trust the notebook. <br />On GitHub, the HTML representation is unable to render, please try loading this page with nbviewer.org.</b></div><div class=\"sk-container\" hidden><div class=\"sk-item sk-dashed-wrapped\"><div class=\"sk-label-container\"><div class=\"sk-label sk-toggleable\"><input class=\"sk-toggleable__control sk-hidden--visually\" id=\"sk-estimator-id-8\" type=\"checkbox\" ><label for=\"sk-estimator-id-8\" class=\"sk-toggleable__label sk-toggleable__label-arrow\">RandomizedSearchCV</label><div class=\"sk-toggleable__content\"><pre>RandomizedSearchCV(cv=5, estimator=LogisticRegression(), n_jobs=-1,\n",
       "                   param_distributions={&#x27;C&#x27;: [100, 10, 1.0, 0.1, 0.01],\n",
       "                                        &#x27;solver&#x27;: [&#x27;newton-cg&#x27;, &#x27;lbfgs&#x27;,\n",
       "                                                   &#x27;liblinear&#x27;, &#x27;sag&#x27;,\n",
       "                                                   &#x27;saga&#x27;]},\n",
       "                   scoring=&#x27;accuracy&#x27;)</pre></div></div></div><div class=\"sk-parallel\"><div class=\"sk-parallel-item\"><div class=\"sk-item\"><div class=\"sk-label-container\"><div class=\"sk-label sk-toggleable\"><input class=\"sk-toggleable__control sk-hidden--visually\" id=\"sk-estimator-id-9\" type=\"checkbox\" ><label for=\"sk-estimator-id-9\" class=\"sk-toggleable__label sk-toggleable__label-arrow\">estimator: LogisticRegression</label><div class=\"sk-toggleable__content\"><pre>LogisticRegression()</pre></div></div></div><div class=\"sk-serial\"><div class=\"sk-item\"><div class=\"sk-estimator sk-toggleable\"><input class=\"sk-toggleable__control sk-hidden--visually\" id=\"sk-estimator-id-10\" type=\"checkbox\" ><label for=\"sk-estimator-id-10\" class=\"sk-toggleable__label sk-toggleable__label-arrow\">LogisticRegression</label><div class=\"sk-toggleable__content\"><pre>LogisticRegression()</pre></div></div></div></div></div></div></div></div></div></div>"
      ],
      "text/plain": [
       "RandomizedSearchCV(cv=5, estimator=LogisticRegression(), n_jobs=-1,\n",
       "                   param_distributions={'C': [100, 10, 1.0, 0.1, 0.01],\n",
       "                                        'solver': ['newton-cg', 'lbfgs',\n",
       "                                                   'liblinear', 'sag',\n",
       "                                                   'saga']},\n",
       "                   scoring='accuracy')"
      ]
     },
     "execution_count": 24,
     "metadata": {},
     "output_type": "execute_result"
    }
   ],
   "source": [
    "randomcv.fit(x_train,y_train)"
   ]
  },
  {
   "cell_type": "code",
   "execution_count": 25,
   "metadata": {},
   "outputs": [
    {
     "data": {
      "text/plain": [
       "{'solver': 'liblinear', 'C': 0.01}"
      ]
     },
     "execution_count": 25,
     "metadata": {},
     "output_type": "execute_result"
    }
   ],
   "source": [
    "randomcv.best_params_"
   ]
  },
  {
   "cell_type": "code",
   "execution_count": 26,
   "metadata": {},
   "outputs": [
    {
     "data": {
      "text/plain": [
       "0.8771428571428572"
      ]
     },
     "execution_count": 26,
     "metadata": {},
     "output_type": "execute_result"
    }
   ],
   "source": [
    "randomcv.best_score_"
   ]
  },
  {
   "cell_type": "code",
   "execution_count": 27,
   "metadata": {},
   "outputs": [],
   "source": [
    "y_preds=randomcv.predict(x_test)"
   ]
  },
  {
   "cell_type": "code",
   "execution_count": 28,
   "metadata": {},
   "outputs": [
    {
     "name": "stdout",
     "output_type": "stream",
     "text": [
      "0.8533333333333334\n",
      "[[124  11]\n",
      " [ 33 132]]\n",
      "              precision    recall  f1-score   support\n",
      "\n",
      "           0       0.79      0.92      0.85       135\n",
      "           1       0.92      0.80      0.86       165\n",
      "\n",
      "    accuracy                           0.85       300\n",
      "   macro avg       0.86      0.86      0.85       300\n",
      "weighted avg       0.86      0.85      0.85       300\n",
      "\n"
     ]
    }
   ],
   "source": [
    "score=accuracy_score(y_test,y_preds)\n",
    "print(score)\n",
    "cm=confusion_matrix(y_test,y_preds)\n",
    "print(cm)\n",
    "print(classification_report(y_test,y_preds))"
   ]
  },
  {
   "cell_type": "code",
   "execution_count": 29,
   "metadata": {},
   "outputs": [
    {
     "data": {
      "text/plain": [
       "array([[ 0.7715326 , -1.47433614,  2.19664605, ...,  0.68174341,\n",
       "         1.08996189,  0.96250289],\n",
       "       [ 1.85838284, -3.68087983,  0.22749588, ..., -0.47417818,\n",
       "         1.34113888, -0.77177196],\n",
       "       [-0.98724764,  1.53916836,  0.5859042 , ..., -0.32202815,\n",
       "        -1.45103394,  1.32543211],\n",
       "       ...,\n",
       "       [-1.227082  ,  1.65602784,  0.47263035, ..., -0.8634936 ,\n",
       "        -1.83932326, -0.03120349],\n",
       "       [ 1.28527572, -0.29715202, -0.67172079, ..., -1.31544131,\n",
       "         2.85446468,  1.3094441 ],\n",
       "       [-0.75428048,  0.88516075, -1.6728939 , ..., -2.0362205 ,\n",
       "        -1.43989584,  0.04749347]])"
      ]
     },
     "execution_count": 29,
     "metadata": {},
     "output_type": "execute_result"
    }
   ],
   "source": [
    "x,y=make_classification(n_samples=1000,n_features=10,n_informative=3,n_classes=3,random_state=42)\n",
    "x"
   ]
  },
  {
   "cell_type": "code",
   "execution_count": 30,
   "metadata": {},
   "outputs": [],
   "source": [
    "x_train,x_test,y_train,y_test=train_test_split(x,y,test_size=0.30,random_state=42)"
   ]
  },
  {
   "cell_type": "code",
   "execution_count": 31,
   "metadata": {},
   "outputs": [],
   "source": [
    "lr=LogisticRegression(multi_class='ovr')\n",
    "lr.fit(x_train,y_train)\n",
    "y_pred=lr.predict(x_test)"
   ]
  },
  {
   "cell_type": "code",
   "execution_count": 32,
   "metadata": {},
   "outputs": [
    {
     "data": {
      "text/plain": [
       "array([2, 0, 1, 2, 0, 1, 2, 0, 0, 2, 2, 2, 2, 2, 2, 2, 2, 1, 0, 0, 0, 0,\n",
       "       2, 0, 1, 0, 2, 1, 0, 2, 2, 0, 1, 0, 0, 2, 2, 2, 1, 0, 0, 1, 2, 0,\n",
       "       1, 2, 1, 0, 1, 1, 2, 0, 1, 0, 2, 2, 2, 2, 1, 2, 0, 2, 2, 2, 1, 1,\n",
       "       0, 1, 0, 1, 0, 2, 2, 0, 0, 0, 2, 1, 1, 2, 2, 0, 2, 1, 0, 1, 1, 2,\n",
       "       1, 1, 2, 2, 1, 2, 2, 2, 1, 0, 0, 0, 0, 2, 1, 0, 2, 1, 1, 0, 0, 2,\n",
       "       0, 1, 2, 0, 0, 0, 1, 1, 2, 2, 1, 0, 0, 1, 2, 0, 0, 1, 0, 2, 1, 0,\n",
       "       2, 2, 2, 0, 0, 1, 2, 1, 2, 1, 2, 1, 2, 2, 2, 0, 0, 1, 2, 0, 0, 2,\n",
       "       1, 0, 0, 0, 2, 0, 0, 0, 2, 2, 2, 2, 2, 1, 2, 1, 0, 2, 1, 0, 0, 2,\n",
       "       0, 1, 1, 2, 2, 0, 0, 2, 0, 0, 0, 2, 0, 0, 0, 0, 2, 1, 2, 2, 1, 2,\n",
       "       0, 1, 2, 2, 1, 1, 0, 2, 1, 2, 2, 2, 2, 2, 0, 0, 0, 0, 0, 0, 1, 0,\n",
       "       1, 2, 2, 2, 0, 0, 0, 0, 0, 2, 2, 0, 0, 2, 2, 1, 0, 1, 2, 0, 0, 2,\n",
       "       0, 2, 0, 0, 2, 2, 0, 2, 2, 0, 1, 2, 2, 0, 1, 1, 0, 1, 2, 0, 2, 2,\n",
       "       0, 0, 0, 2, 1, 2, 0, 2, 2, 2, 0, 2, 0, 2, 2, 0, 0, 1, 0, 2, 2, 2,\n",
       "       0, 2, 2, 0, 2, 2, 0, 2, 0, 0, 2, 2, 0, 1])"
      ]
     },
     "execution_count": 32,
     "metadata": {},
     "output_type": "execute_result"
    }
   ],
   "source": [
    "y_pred"
   ]
  },
  {
   "cell_type": "code",
   "execution_count": 33,
   "metadata": {},
   "outputs": [
    {
     "name": "stdout",
     "output_type": "stream",
     "text": [
      "0.68\n",
      "[[79 16  8]\n",
      " [31 38 27]\n",
      " [ 3 11 87]]\n",
      "              precision    recall  f1-score   support\n",
      "\n",
      "           0       0.70      0.77      0.73       103\n",
      "           1       0.58      0.40      0.47        96\n",
      "           2       0.71      0.86      0.78       101\n",
      "\n",
      "    accuracy                           0.68       300\n",
      "   macro avg       0.67      0.67      0.66       300\n",
      "weighted avg       0.67      0.68      0.66       300\n",
      "\n"
     ]
    }
   ],
   "source": [
    "score=accuracy_score(y_test,y_pred)\n",
    "print(score)\n",
    "cm=confusion_matrix(y_test,y_pred)\n",
    "print(cm)\n",
    "print(classification_report(y_test,y_pred))"
   ]
  },
  {
   "cell_type": "code",
   "execution_count": 34,
   "metadata": {},
   "outputs": [],
   "source": [
    "from collections import Counter"
   ]
  },
  {
   "cell_type": "code",
   "execution_count": 35,
   "metadata": {},
   "outputs": [],
   "source": [
    "x,y=make_classification(n_samples=10000,n_features=2,n_clusters_per_class=1,n_redundant=0,weights=[0.99],random_state=10)"
   ]
  },
  {
   "cell_type": "code",
   "execution_count": 36,
   "metadata": {},
   "outputs": [
    {
     "data": {
      "text/plain": [
       "array([[ 1.87991016, -1.4850347 ],\n",
       "       [ 0.37708311, -2.23858488],\n",
       "       [ 1.35431163, -2.66463822],\n",
       "       ...,\n",
       "       [ 0.99509904, -0.54192355],\n",
       "       [ 1.75859359, -1.54961188],\n",
       "       [ 0.79770543, -1.99467372]])"
      ]
     },
     "execution_count": 36,
     "metadata": {},
     "output_type": "execute_result"
    }
   ],
   "source": [
    "x"
   ]
  },
  {
   "cell_type": "code",
   "execution_count": 37,
   "metadata": {},
   "outputs": [
    {
     "data": {
      "text/plain": [
       "Counter({0: 9846, 1: 154})"
      ]
     },
     "execution_count": 37,
     "metadata": {},
     "output_type": "execute_result"
    }
   ],
   "source": [
    "Counter(y)"
   ]
  },
  {
   "cell_type": "code",
   "execution_count": 41,
   "metadata": {},
   "outputs": [
    {
     "data": {
      "text/plain": [
       "<Axes: xlabel='0', ylabel='1'>"
      ]
     },
     "execution_count": 41,
     "metadata": {},
     "output_type": "execute_result"
    },
    {
     "data": {
      "image/png": "[encoded data removed]",
      "text/plain": [
       "<Figure size 640x480 with 1 Axes>"
      ]
     },
     "metadata": {},
     "output_type": "display_data"
    }
   ],
   "source": [
    "sns.scatterplot(x=pd.DataFrame(x)[0],y=pd.DataFrame(x)[1],hue=y)"
   ]
  },
  {
   "cell_type": "code",
   "execution_count": 42,
   "metadata": {},
   "outputs": [],
   "source": [
    "x_train,x_test,y_train,y_test=train_test_split(x,y,test_size=0.30,random_state=42)\n",
    "class_weight=[{0:w,1:y} for w in [1,10,50,100] for y in [1,10,50,100]]"
   ]
  },
  {
   "cell_type": "code",
   "execution_count": 43,
   "metadata": {},
   "outputs": [
    {
     "data": {
      "text/plain": [
       "[{0: 1, 1: 1},\n",
       " {0: 1, 1: 10},\n",
       " {0: 1, 1: 50},\n",
       " {0: 1, 1: 100},\n",
       " {0: 10, 1: 1},\n",
       " {0: 10, 1: 10},\n",
       " {0: 10, 1: 50},\n",
       " {0: 10, 1: 100},\n",
       " {0: 50, 1: 1},\n",
       " {0: 50, 1: 10},\n",
       " {0: 50, 1: 50},\n",
       " {0: 50, 1: 100},\n",
       " {0: 100, 1: 1},\n",
       " {0: 100, 1: 10},\n",
       " {0: 100, 1: 50},\n",
       " {0: 100, 1: 100}]"
      ]
     },
     "execution_count": 43,
     "metadata": {},
     "output_type": "execute_result"
    }
   ],
   "source": [
    "class_weight"
   ]
  },
  {
   "cell_type": "code",
   "execution_count": 44,
   "metadata": {},
   "outputs": [],
   "source": [
    "model=LogisticRegression()\n",
    "c_values=[100,10,1.0,0.1,0.01]\n",
    "solver=['newton-cg','lbfgs','liblinear','sag','saga']"
   ]
  },
  {
   "cell_type": "code",
   "execution_count": 45,
   "metadata": {},
   "outputs": [],
   "source": [
    "params=dict(C=c_values,solver=solver,class_weight=class_weight)"
   ]
  },
  {
   "cell_type": "code",
   "execution_count": 46,
   "metadata": {},
   "outputs": [
    {
     "data": {
      "text/plain": [
       "{'C': [100, 10, 1.0, 0.1, 0.01],\n",
       " 'solver': ['newton-cg', 'lbfgs', 'liblinear', 'sag', 'saga'],\n",
       " 'class_weight': [{0: 1, 1: 1},\n",
       "  {0: 1, 1: 10},\n",
       "  {0: 1, 1: 50},\n",
       "  {0: 1, 1: 100},\n",
       "  {0: 10, 1: 1},\n",
       "  {0: 10, 1: 10},\n",
       "  {0: 10, 1: 50},\n",
       "  {0: 10, 1: 100},\n",
       "  {0: 50, 1: 1},\n",
       "  {0: 50, 1: 10},\n",
       "  {0: 50, 1: 50},\n",
       "  {0: 50, 1: 100},\n",
       "  {0: 100, 1: 1},\n",
       "  {0: 100, 1: 10},\n",
       "  {0: 100, 1: 50},\n",
       "  {0: 100, 1: 100}]}"
      ]
     },
     "execution_count": 46,
     "metadata": {},
     "output_type": "execute_result"
    }
   ],
   "source": [
    "params"
   ]
  },
  {
   "cell_type": "code",
   "execution_count": 47,
   "metadata": {},
   "outputs": [],
   "source": [
    "cv=StratifiedKFold()\n",
    "grid=GridSearchCV(estimator=model,param_grid=params,scoring='accuracy',cv=cv,n_jobs=-1)"
   ]
  },
  {
   "cell_type": "code",
   "execution_count": 48,
   "metadata": {},
   "outputs": [
    {
     "data": {
      "text/html": [
       "<style>#sk-container-id-5 {color: black;}#sk-container-id-5 pre{padding: 0;}#sk-container-id-5 div.sk-toggleable {background-color: white;}#sk-container-id-5 label.sk-toggleable__label {cursor: pointer;display: block;width: 100%;margin-bottom: 0;padding: 0.3em;box-sizing: border-box;text-align: center;}#sk-container-id-5 label.sk-toggleable__label-arrow:before {content: \"▸\";float: left;margin-right: 0.25em;color: #696969;}#sk-container-id-5 label.sk-toggleable__label-arrow:hover:before {color: black;}#sk-container-id-5 div.sk-estimator:hover label.sk-toggleable__label-arrow:before {color: black;}#sk-container-id-5 div.sk-toggleable__content {max-height: 0;max-width: 0;overflow: hidden;text-align: left;background-color: #f0f8ff;}#sk-container-id-5 div.sk-toggleable__content pre {margin: 0.2em;color: black;border-radius: 0.25em;background-color: #f0f8ff;}#sk-container-id-5 input.sk-toggleable__control:checked~div.sk-toggleable__content {max-height: 200px;max-width: 100%;overflow: auto;}#sk-container-id-5 input.sk-toggleable__control:checked~label.sk-toggleable__label-arrow:before {content: \"▾\";}#sk-container-id-5 div.sk-estimator input.sk-toggleable__control:checked~label.sk-toggleable__label {background-color: #d4ebff;}#sk-container-id-5 div.sk-label input.sk-toggleable__control:checked~label.sk-toggleable__label {background-color: #d4ebff;}#sk-container-id-5 input.sk-hidden--visually {border: 0;clip: rect(1px 1px 1px 1px);clip: rect(1px, 1px, 1px, 1px);height: 1px;margin: -1px;overflow: hidden;padding: 0;position: absolute;width: 1px;}#sk-container-id-5 div.sk-estimator {font-family: monospace;background-color: #f0f8ff;border: 1px dotted black;border-radius: 0.25em;box-sizing: border-box;margin-bottom: 0.5em;}#sk-container-id-5 div.sk-estimator:hover {background-color: #d4ebff;}#sk-container-id-5 div.sk-parallel-item::after {content: \"\";width: 100%;border-bottom: 1px solid gray;flex-grow: 1;}#sk-container-id-5 div.sk-label:hover label.sk-toggleable__label {background-color: #d4ebff;}#sk-container-id-5 div.sk-serial::before {content: \"\";position: absolute;border-left: 1px solid gray;box-sizing: border-box;top: 0;bottom: 0;left: 50%;z-index: 0;}#sk-container-id-5 div.sk-serial {display: flex;flex-direction: column;align-items: center;background-color: white;padding-right: 0.2em;padding-left: 0.2em;position: relative;}#sk-container-id-5 div.sk-item {position: relative;z-index: 1;}#sk-container-id-5 div.sk-parallel {display: flex;align-items: stretch;justify-content: center;background-color: white;position: relative;}#sk-container-id-5 div.sk-item::before, #sk-container-id-5 div.sk-parallel-item::before {content: \"\";position: absolute;border-left: 1px solid gray;box-sizing: border-box;top: 0;bottom: 0;left: 50%;z-index: -1;}#sk-container-id-5 div.sk-parallel-item {display: flex;flex-direction: column;z-index: 1;position: relative;background-color: white;}#sk-container-id-5 div.sk-parallel-item:first-child::after {align-self: flex-end;width: 50%;}#sk-container-id-5 div.sk-parallel-item:last-child::after {align-self: flex-start;width: 50%;}#sk-container-id-5 div.sk-parallel-item:only-child::after {width: 0;}#sk-container-id-5 div.sk-dashed-wrapped {border: 1px dashed gray;margin: 0 0.4em 0.5em 0.4em;box-sizing: border-box;padding-bottom: 0.4em;background-color: white;}#sk-container-id-5 div.sk-label label {font-family: monospace;font-weight: bold;display: inline-block;line-height: 1.2em;}#sk-container-id-5 div.sk-label-container {text-align: center;}#sk-container-id-5 div.sk-container {/* jupyter's `normalize.less` sets `[hidden] { display: none; }` but bootstrap.min.css set `[hidden] { display: none !important; }` so we also need the `!important` here to be able to override the default hidden behavior on the sphinx rendered scikit-learn.org. See: https://github.com/scikit-learn/scikit-learn/issues/21755 */display: inline-block !important;position: relative;}#sk-container-id-5 div.sk-text-repr-fallback {display: none;}</style><div id=\"sk-container-id-5\" class=\"sk-top-container\"><div class=\"sk-text-repr-fallback\"><pre>GridSearchCV(cv=StratifiedKFold(n_splits=5, random_state=None, shuffle=False),\n",
       "             estimator=LogisticRegression(), n_jobs=-1,\n",
       "             param_grid={&#x27;C&#x27;: [100, 10, 1.0, 0.1, 0.01],\n",
       "                         &#x27;class_weight&#x27;: [{0: 1, 1: 1}, {0: 1, 1: 10},\n",
       "                                          {0: 1, 1: 50}, {0: 1, 1: 100},\n",
       "                                          {0: 10, 1: 1}, {0: 10, 1: 10},\n",
       "                                          {0: 10, 1: 50}, {0: 10, 1: 100},\n",
       "                                          {0: 50, 1: 1}, {0: 50, 1: 10},\n",
       "                                          {0: 50, 1: 50}, {0: 50, 1: 100},\n",
       "                                          {0: 100, 1: 1}, {0: 100, 1: 10},\n",
       "                                          {0: 100, 1: 50}, {0: 100, 1: 100}],\n",
       "                         &#x27;solver&#x27;: [&#x27;newton-cg&#x27;, &#x27;lbfgs&#x27;, &#x27;liblinear&#x27;, &#x27;sag&#x27;,\n",
       "                                    &#x27;saga&#x27;]},\n",
       "             scoring=&#x27;accuracy&#x27;)</pre><b>In a Jupyter environment, please rerun this cell to show the HTML representation or trust the notebook. <br />On GitHub, the HTML representation is unable to render, please try loading this page with nbviewer.org.</b></div><div class=\"sk-container\" hidden><div class=\"sk-item sk-dashed-wrapped\"><div class=\"sk-label-container\"><div class=\"sk-label sk-toggleable\"><input class=\"sk-toggleable__control sk-hidden--visually\" id=\"sk-estimator-id-11\" type=\"checkbox\" ><label for=\"sk-estimator-id-11\" class=\"sk-toggleable__label sk-toggleable__label-arrow\">GridSearchCV</label><div class=\"sk-toggleable__content\"><pre>GridSearchCV(cv=StratifiedKFold(n_splits=5, random_state=None, shuffle=False),\n",
       "             estimator=LogisticRegression(), n_jobs=-1,\n",
       "             param_grid={&#x27;C&#x27;: [100, 10, 1.0, 0.1, 0.01],\n",
       "                         &#x27;class_weight&#x27;: [{0: 1, 1: 1}, {0: 1, 1: 10},\n",
       "                                          {0: 1, 1: 50}, {0: 1, 1: 100},\n",
       "                                          {0: 10, 1: 1}, {0: 10, 1: 10},\n",
       "                                          {0: 10, 1: 50}, {0: 10, 1: 100},\n",
       "                                          {0: 50, 1: 1}, {0: 50, 1: 10},\n",
       "                                          {0: 50, 1: 50}, {0: 50, 1: 100},\n",
       "                                          {0: 100, 1: 1}, {0: 100, 1: 10},\n",
       "                                          {0: 100, 1: 50}, {0: 100, 1: 100}],\n",
       "                         &#x27;solver&#x27;: [&#x27;newton-cg&#x27;, &#x27;lbfgs&#x27;, &#x27;liblinear&#x27;, &#x27;sag&#x27;,\n",
       "                                    &#x27;saga&#x27;]},\n",
       "             scoring=&#x27;accuracy&#x27;)</pre></div></div></div><div class=\"sk-parallel\"><div class=\"sk-parallel-item\"><div class=\"sk-item\"><div class=\"sk-label-container\"><div class=\"sk-label sk-toggleable\"><input class=\"sk-toggleable__control sk-hidden--visually\" id=\"sk-estimator-id-12\" type=\"checkbox\" ><label for=\"sk-estimator-id-12\" class=\"sk-toggleable__label sk-toggleable__label-arrow\">estimator: LogisticRegression</label><div class=\"sk-toggleable__content\"><pre>LogisticRegression()</pre></div></div></div><div class=\"sk-serial\"><div class=\"sk-item\"><div class=\"sk-estimator sk-toggleable\"><input class=\"sk-toggleable__control sk-hidden--visually\" id=\"sk-estimator-id-13\" type=\"checkbox\" ><label for=\"sk-estimator-id-13\" class=\"sk-toggleable__label sk-toggleable__label-arrow\">LogisticRegression</label><div class=\"sk-toggleable__content\"><pre>LogisticRegression()</pre></div></div></div></div></div></div></div></div></div></div>"
      ],
      "text/plain": [
       "GridSearchCV(cv=StratifiedKFold(n_splits=5, random_state=None, shuffle=False),\n",
       "             estimator=LogisticRegression(), n_jobs=-1,\n",
       "             param_grid={'C': [100, 10, 1.0, 0.1, 0.01],\n",
       "                         'class_weight': [{0: 1, 1: 1}, {0: 1, 1: 10},\n",
       "                                          {0: 1, 1: 50}, {0: 1, 1: 100},\n",
       "                                          {0: 10, 1: 1}, {0: 10, 1: 10},\n",
       "                                          {0: 10, 1: 50}, {0: 10, 1: 100},\n",
       "                                          {0: 50, 1: 1}, {0: 50, 1: 10},\n",
       "                                          {0: 50, 1: 50}, {0: 50, 1: 100},\n",
       "                                          {0: 100, 1: 1}, {0: 100, 1: 10},\n",
       "                                          {0: 100, 1: 50}, {0: 100, 1: 100}],\n",
       "                         'solver': ['newton-cg', 'lbfgs', 'liblinear', 'sag',\n",
       "                                    'saga']},\n",
       "             scoring='accuracy')"
      ]
     },
     "execution_count": 48,
     "metadata": {},
     "output_type": "execute_result"
    }
   ],
   "source": [
    "grid.fit(x_train,y_train)"
   ]
  },
  {
   "cell_type": "code",
   "execution_count": 49,
   "metadata": {},
   "outputs": [
    {
     "data": {
      "text/plain": [
       "{'C': 0.01, 'class_weight': {0: 10, 1: 50}, 'solver': 'newton-cg'}"
      ]
     },
     "execution_count": 49,
     "metadata": {},
     "output_type": "execute_result"
    }
   ],
   "source": [
    "grid.best_params_"
   ]
  },
  {
   "cell_type": "code",
   "execution_count": 50,
   "metadata": {},
   "outputs": [
    {
     "data": {
      "text/plain": [
       "0.9887142857142857"
      ]
     },
     "execution_count": 50,
     "metadata": {},
     "output_type": "execute_result"
    }
   ],
   "source": [
    "grid.best_score_"
   ]
  },
  {
   "cell_type": "code",
   "execution_count": 51,
   "metadata": {},
   "outputs": [],
   "source": [
    "y_preds=grid.predict(x_test)"
   ]
  },
  {
   "cell_type": "code",
   "execution_count": 52,
   "metadata": {},
   "outputs": [
    {
     "name": "stdout",
     "output_type": "stream",
     "text": [
      "0.9886666666666667\n",
      "[[2949    4]\n",
      " [  30   17]]\n",
      "              precision    recall  f1-score   support\n",
      "\n",
      "           0       0.99      1.00      0.99      2953\n",
      "           1       0.81      0.36      0.50        47\n",
      "\n",
      "    accuracy                           0.99      3000\n",
      "   macro avg       0.90      0.68      0.75      3000\n",
      "weighted avg       0.99      0.99      0.99      3000\n",
      "\n"
     ]
    }
   ],
   "source": [
    "score=accuracy_score(y_test,y_preds)\n",
    "print(score)\n",
    "cm=confusion_matrix(y_test,y_preds)\n",
    "print(cm)\n",
    "print(classification_report(y_test,y_preds))"
   ]
  },
  {
   "cell_type": "code",
   "execution_count": 53,
   "metadata": {},
   "outputs": [],
   "source": [
    "from sklearn.metrics import roc_auc_score,roc_curve"
   ]
  },
  {
   "cell_type": "code",
   "execution_count": 54,
   "metadata": {},
   "outputs": [],
   "source": [
    "x,y=make_classification(n_samples=1000,n_classes=2,random_state=1)"
   ]
  },
  {
   "cell_type": "code",
   "execution_count": 55,
   "metadata": {},
   "outputs": [],
   "source": [
    "x_train,x_test,y_train,y_test=train_test_split(x,y,test_size=0.25,random_state=1)"
   ]
  },
  {
   "cell_type": "code",
   "execution_count": 56,
   "metadata": {},
   "outputs": [
    {
     "data": {
      "text/plain": [
       "[0,\n",
       " 0,\n",
       " 0,\n",
       " 0,\n",
       " 0,\n",
       " 0,\n",
       " 0,\n",
       " 0,\n",
       " 0,\n",
       " 0,\n",
       " 0,\n",
       " 0,\n",
       " 0,\n",
       " 0,\n",
       " 0,\n",
       " 0,\n",
       " 0,\n",
       " 0,\n",
       " 0,\n",
       " 0,\n",
       " 0,\n",
       " 0,\n",
       " 0,\n",
       " 0,\n",
       " 0,\n",
       " 0,\n",
       " 0,\n",
       " 0,\n",
       " 0,\n",
       " 0,\n",
       " 0,\n",
       " 0,\n",
       " 0,\n",
       " 0,\n",
       " 0,\n",
       " 0,\n",
       " 0,\n",
       " 0,\n",
       " 0,\n",
       " 0,\n",
       " 0,\n",
       " 0,\n",
       " 0,\n",
       " 0,\n",
       " 0,\n",
       " 0,\n",
       " 0,\n",
       " 0,\n",
       " 0,\n",
       " 0,\n",
       " 0,\n",
       " 0,\n",
       " 0,\n",
       " 0,\n",
       " 0,\n",
       " 0,\n",
       " 0,\n",
       " 0,\n",
       " 0,\n",
       " 0,\n",
       " 0,\n",
       " 0,\n",
       " 0,\n",
       " 0,\n",
       " 0,\n",
       " 0,\n",
       " 0,\n",
       " 0,\n",
       " 0,\n",
       " 0,\n",
       " 0,\n",
       " 0,\n",
       " 0,\n",
       " 0,\n",
       " 0,\n",
       " 0,\n",
       " 0,\n",
       " 0,\n",
       " 0,\n",
       " 0,\n",
       " 0,\n",
       " 0,\n",
       " 0,\n",
       " 0,\n",
       " 0,\n",
       " 0,\n",
       " 0,\n",
       " 0,\n",
       " 0,\n",
       " 0,\n",
       " 0,\n",
       " 0,\n",
       " 0,\n",
       " 0,\n",
       " 0,\n",
       " 0,\n",
       " 0,\n",
       " 0,\n",
       " 0,\n",
       " 0,\n",
       " 0,\n",
       " 0,\n",
       " 0,\n",
       " 0,\n",
       " 0,\n",
       " 0,\n",
       " 0,\n",
       " 0,\n",
       " 0,\n",
       " 0,\n",
       " 0,\n",
       " 0,\n",
       " 0,\n",
       " 0,\n",
       " 0,\n",
       " 0,\n",
       " 0,\n",
       " 0,\n",
       " 0,\n",
       " 0,\n",
       " 0,\n",
       " 0,\n",
       " 0,\n",
       " 0,\n",
       " 0,\n",
       " 0,\n",
       " 0,\n",
       " 0,\n",
       " 0,\n",
       " 0,\n",
       " 0,\n",
       " 0,\n",
       " 0,\n",
       " 0,\n",
       " 0,\n",
       " 0,\n",
       " 0,\n",
       " 0,\n",
       " 0,\n",
       " 0,\n",
       " 0,\n",
       " 0,\n",
       " 0,\n",
       " 0,\n",
       " 0,\n",
       " 0,\n",
       " 0,\n",
       " 0,\n",
       " 0,\n",
       " 0,\n",
       " 0,\n",
       " 0,\n",
       " 0,\n",
       " 0,\n",
       " 0,\n",
       " 0,\n",
       " 0,\n",
       " 0,\n",
       " 0,\n",
       " 0,\n",
       " 0,\n",
       " 0,\n",
       " 0,\n",
       " 0,\n",
       " 0,\n",
       " 0,\n",
       " 0,\n",
       " 0,\n",
       " 0,\n",
       " 0,\n",
       " 0,\n",
       " 0,\n",
       " 0,\n",
       " 0,\n",
       " 0,\n",
       " 0,\n",
       " 0,\n",
       " 0,\n",
       " 0,\n",
       " 0,\n",
       " 0,\n",
       " 0,\n",
       " 0,\n",
       " 0,\n",
       " 0,\n",
       " 0,\n",
       " 0,\n",
       " 0,\n",
       " 0,\n",
       " 0,\n",
       " 0,\n",
       " 0,\n",
       " 0,\n",
       " 0,\n",
       " 0,\n",
       " 0,\n",
       " 0,\n",
       " 0,\n",
       " 0,\n",
       " 0,\n",
       " 0,\n",
       " 0,\n",
       " 0,\n",
       " 0,\n",
       " 0,\n",
       " 0,\n",
       " 0,\n",
       " 0,\n",
       " 0,\n",
       " 0,\n",
       " 0,\n",
       " 0,\n",
       " 0,\n",
       " 0,\n",
       " 0,\n",
       " 0,\n",
       " 0,\n",
       " 0,\n",
       " 0,\n",
       " 0,\n",
       " 0,\n",
       " 0,\n",
       " 0,\n",
       " 0,\n",
       " 0,\n",
       " 0,\n",
       " 0,\n",
       " 0,\n",
       " 0,\n",
       " 0,\n",
       " 0,\n",
       " 0,\n",
       " 0,\n",
       " 0,\n",
       " 0,\n",
       " 0,\n",
       " 0,\n",
       " 0,\n",
       " 0,\n",
       " 0,\n",
       " 0,\n",
       " 0,\n",
       " 0,\n",
       " 0,\n",
       " 0,\n",
       " 0,\n",
       " 0,\n",
       " 0,\n",
       " 0,\n",
       " 0]"
      ]
     },
     "execution_count": 56,
     "metadata": {},
     "output_type": "execute_result"
    }
   ],
   "source": [
    "dummy_model_prob=[0 for _ in range(len(y_test))]\n",
    "dummy_model_prob"
   ]
  },
  {
   "cell_type": "code",
   "execution_count": 57,
   "metadata": {},
   "outputs": [
    {
     "data": {
      "text/html": [
       "<style>#sk-container-id-6 {color: black;}#sk-container-id-6 pre{padding: 0;}#sk-container-id-6 div.sk-toggleable {background-color: white;}#sk-container-id-6 label.sk-toggleable__label {cursor: pointer;display: block;width: 100%;margin-bottom: 0;padding: 0.3em;box-sizing: border-box;text-align: center;}#sk-container-id-6 label.sk-toggleable__label-arrow:before {content: \"▸\";float: left;margin-right: 0.25em;color: #696969;}#sk-container-id-6 label.sk-toggleable__label-arrow:hover:before {color: black;}#sk-container-id-6 div.sk-estimator:hover label.sk-toggleable__label-arrow:before {color: black;}#sk-container-id-6 div.sk-toggleable__content {max-height: 0;max-width: 0;overflow: hidden;text-align: left;background-color: #f0f8ff;}#sk-container-id-6 div.sk-toggleable__content pre {margin: 0.2em;color: black;border-radius: 0.25em;background-color: #f0f8ff;}#sk-container-id-6 input.sk-toggleable__control:checked~div.sk-toggleable__content {max-height: 200px;max-width: 100%;overflow: auto;}#sk-container-id-6 input.sk-toggleable__control:checked~label.sk-toggleable__label-arrow:before {content: \"▾\";}#sk-container-id-6 div.sk-estimator input.sk-toggleable__control:checked~label.sk-toggleable__label {background-color: #d4ebff;}#sk-container-id-6 div.sk-label input.sk-toggleable__control:checked~label.sk-toggleable__label {background-color: #d4ebff;}#sk-container-id-6 input.sk-hidden--visually {border: 0;clip: rect(1px 1px 1px 1px);clip: rect(1px, 1px, 1px, 1px);height: 1px;margin: -1px;overflow: hidden;padding: 0;position: absolute;width: 1px;}#sk-container-id-6 div.sk-estimator {font-family: monospace;background-color: #f0f8ff;border: 1px dotted black;border-radius: 0.25em;box-sizing: border-box;margin-bottom: 0.5em;}#sk-container-id-6 div.sk-estimator:hover {background-color: #d4ebff;}#sk-container-id-6 div.sk-parallel-item::after {content: \"\";width: 100%;border-bottom: 1px solid gray;flex-grow: 1;}#sk-container-id-6 div.sk-label:hover label.sk-toggleable__label {background-color: #d4ebff;}#sk-container-id-6 div.sk-serial::before {content: \"\";position: absolute;border-left: 1px solid gray;box-sizing: border-box;top: 0;bottom: 0;left: 50%;z-index: 0;}#sk-container-id-6 div.sk-serial {display: flex;flex-direction: column;align-items: center;background-color: white;padding-right: 0.2em;padding-left: 0.2em;position: relative;}#sk-container-id-6 div.sk-item {position: relative;z-index: 1;}#sk-container-id-6 div.sk-parallel {display: flex;align-items: stretch;justify-content: center;background-color: white;position: relative;}#sk-container-id-6 div.sk-item::before, #sk-container-id-6 div.sk-parallel-item::before {content: \"\";position: absolute;border-left: 1px solid gray;box-sizing: border-box;top: 0;bottom: 0;left: 50%;z-index: -1;}#sk-container-id-6 div.sk-parallel-item {display: flex;flex-direction: column;z-index: 1;position: relative;background-color: white;}#sk-container-id-6 div.sk-parallel-item:first-child::after {align-self: flex-end;width: 50%;}#sk-container-id-6 div.sk-parallel-item:last-child::after {align-self: flex-start;width: 50%;}#sk-container-id-6 div.sk-parallel-item:only-child::after {width: 0;}#sk-container-id-6 div.sk-dashed-wrapped {border: 1px dashed gray;margin: 0 0.4em 0.5em 0.4em;box-sizing: border-box;padding-bottom: 0.4em;background-color: white;}#sk-container-id-6 div.sk-label label {font-family: monospace;font-weight: bold;display: inline-block;line-height: 1.2em;}#sk-container-id-6 div.sk-label-container {text-align: center;}#sk-container-id-6 div.sk-container {/* jupyter's `normalize.less` sets `[hidden] { display: none; }` but bootstrap.min.css set `[hidden] { display: none !important; }` so we also need the `!important` here to be able to override the default hidden behavior on the sphinx rendered scikit-learn.org. See: https://github.com/scikit-learn/scikit-learn/issues/21755 */display: inline-block !important;position: relative;}#sk-container-id-6 div.sk-text-repr-fallback {display: none;}</style><div id=\"sk-container-id-6\" class=\"sk-top-container\"><div class=\"sk-text-repr-fallback\"><pre>LogisticRegression()</pre><b>In a Jupyter environment, please rerun this cell to show the HTML representation or trust the notebook. <br />On GitHub, the HTML representation is unable to render, please try loading this page with nbviewer.org.</b></div><div class=\"sk-container\" hidden><div class=\"sk-item\"><div class=\"sk-estimator sk-toggleable\"><input class=\"sk-toggleable__control sk-hidden--visually\" id=\"sk-estimator-id-14\" type=\"checkbox\" checked><label for=\"sk-estimator-id-14\" class=\"sk-toggleable__label sk-toggleable__label-arrow\">LogisticRegression</label><div class=\"sk-toggleable__content\"><pre>LogisticRegression()</pre></div></div></div></div></div>"
      ],
      "text/plain": [
       "LogisticRegression()"
      ]
     },
     "execution_count": 57,
     "metadata": {},
     "output_type": "execute_result"
    }
   ],
   "source": [
    "model.fit(x_train,y_train)"
   ]
  },
  {
   "cell_type": "code",
   "execution_count": 58,
   "metadata": {},
   "outputs": [],
   "source": [
    "model_prob=model.predict_proba(x_test)"
   ]
  },
  {
   "cell_type": "code",
   "execution_count": 59,
   "metadata": {},
   "outputs": [
    {
     "data": {
      "text/plain": [
       "array([[9.59378341e-01, 4.06216587e-02],\n",
       "       [3.55286613e-01, 6.44713387e-01],\n",
       "       [4.61267124e-01, 5.38732876e-01],\n",
       "       [1.26889025e-01, 8.73110975e-01],\n",
       "       [3.98526808e-01, 6.01473192e-01],\n",
       "       [5.89223491e-01, 4.10776509e-01],\n",
       "       [7.12217464e-02, 9.28778254e-01],\n",
       "       [7.50459343e-01, 2.49540657e-01],\n",
       "       [9.54404510e-01, 4.55954900e-02],\n",
       "       [9.69614065e-01, 3.03859348e-02],\n",
       "       [1.33872897e-01, 8.66127103e-01],\n",
       "       [5.31791838e-01, 4.68208162e-01],\n",
       "       [1.72410410e-01, 8.27589590e-01],\n",
       "       [9.67835702e-01, 3.21642984e-02],\n",
       "       [2.30236812e-01, 7.69763188e-01],\n",
       "       [6.14757024e-01, 3.85242976e-01],\n",
       "       [5.65091789e-01, 4.34908211e-01],\n",
       "       [9.92529120e-01, 7.47088006e-03],\n",
       "       [6.25795563e-01, 3.74204437e-01],\n",
       "       [9.86727540e-01, 1.32724600e-02],\n",
       "       [9.84869667e-01, 1.51303330e-02],\n",
       "       [4.16152687e-02, 9.58384731e-01],\n",
       "       [8.20852126e-01, 1.79147874e-01],\n",
       "       [2.69112118e-02, 9.73088788e-01],\n",
       "       [2.75499825e-02, 9.72450017e-01],\n",
       "       [1.69349515e-01, 8.30650485e-01],\n",
       "       [4.65328559e-01, 5.34671441e-01],\n",
       "       [9.49808291e-01, 5.01917093e-02],\n",
       "       [9.89877109e-01, 1.01228908e-02],\n",
       "       [2.12150504e-02, 9.78784950e-01],\n",
       "       [6.05093091e-02, 9.39490691e-01],\n",
       "       [9.63281782e-02, 9.03671822e-01],\n",
       "       [9.66762911e-01, 3.32370894e-02],\n",
       "       [9.00514071e-02, 9.09948593e-01],\n",
       "       [6.26307959e-01, 3.73692041e-01],\n",
       "       [7.03035085e-01, 2.96964915e-01],\n",
       "       [9.76211275e-01, 2.37887250e-02],\n",
       "       [1.28397896e-01, 8.71602104e-01],\n",
       "       [8.83956463e-01, 1.16043537e-01],\n",
       "       [1.27785199e-01, 8.72214801e-01],\n",
       "       [5.06065104e-01, 4.93934896e-01],\n",
       "       [3.93649876e-02, 9.60635012e-01],\n",
       "       [4.85644249e-01, 5.14355751e-01],\n",
       "       [4.02670157e-01, 5.97329843e-01],\n",
       "       [5.49521370e-01, 4.50478630e-01],\n",
       "       [9.90703070e-01, 9.29693017e-03],\n",
       "       [9.89744390e-01, 1.02556098e-02],\n",
       "       [2.96307413e-01, 7.03692587e-01],\n",
       "       [9.93838188e-01, 6.16181236e-03],\n",
       "       [1.85650199e-01, 8.14349801e-01],\n",
       "       [1.62912164e-01, 8.37087836e-01],\n",
       "       [8.41884321e-02, 9.15811568e-01],\n",
       "       [4.58610050e-02, 9.54138995e-01],\n",
       "       [1.11926173e-01, 8.88073827e-01],\n",
       "       [8.10575226e-01, 1.89424774e-01],\n",
       "       [9.34518867e-01, 6.54811331e-02],\n",
       "       [4.95467514e-01, 5.04532486e-01],\n",
       "       [6.32535909e-02, 9.36746409e-01],\n",
       "       [2.19046851e-02, 9.78095315e-01],\n",
       "       [8.54195161e-01, 1.45804839e-01],\n",
       "       [9.96609890e-01, 3.39010983e-03],\n",
       "       [9.59218234e-01, 4.07817655e-02],\n",
       "       [5.17001177e-01, 4.82998823e-01],\n",
       "       [9.77500120e-01, 2.24998797e-02],\n",
       "       [1.91068409e-01, 8.08931591e-01],\n",
       "       [2.71949133e-01, 7.28050867e-01],\n",
       "       [9.90777832e-01, 9.22216846e-03],\n",
       "       [3.23387125e-03, 9.96766129e-01],\n",
       "       [4.76209025e-03, 9.95237910e-01],\n",
       "       [7.65675825e-01, 2.34324175e-01],\n",
       "       [1.51203371e-01, 8.48796629e-01],\n",
       "       [4.77021477e-01, 5.22978523e-01],\n",
       "       [9.62588202e-01, 3.74117983e-02],\n",
       "       [9.93861257e-01, 6.13874329e-03],\n",
       "       [1.88543135e-01, 8.11456865e-01],\n",
       "       [2.64611551e-02, 9.73538845e-01],\n",
       "       [1.96710741e-01, 8.03289259e-01],\n",
       "       [6.94167106e-01, 3.05832894e-01],\n",
       "       [5.63883944e-01, 4.36116056e-01],\n",
       "       [1.98861769e-01, 8.01138231e-01],\n",
       "       [3.48146768e-01, 6.51853232e-01],\n",
       "       [1.78192002e-01, 8.21807998e-01],\n",
       "       [7.41276059e-01, 2.58723941e-01],\n",
       "       [2.66840739e-01, 7.33159261e-01],\n",
       "       [2.24461572e-01, 7.75538428e-01],\n",
       "       [1.15217961e-01, 8.84782039e-01],\n",
       "       [2.98905472e-01, 7.01094528e-01],\n",
       "       [6.00159894e-01, 3.99840106e-01],\n",
       "       [1.88998403e-02, 9.81100160e-01],\n",
       "       [3.19631717e-03, 9.96803683e-01],\n",
       "       [7.27500543e-02, 9.27249946e-01],\n",
       "       [3.19589787e-02, 9.68041021e-01],\n",
       "       [6.83202433e-01, 3.16797567e-01],\n",
       "       [9.86861849e-01, 1.31381513e-02],\n",
       "       [4.42365388e-03, 9.95576346e-01],\n",
       "       [9.55810551e-01, 4.41894488e-02],\n",
       "       [8.99993781e-01, 1.00006219e-01],\n",
       "       [1.91889818e-01, 8.08110182e-01],\n",
       "       [8.68174965e-01, 1.31825035e-01],\n",
       "       [9.86743763e-01, 1.32562372e-02],\n",
       "       [5.07400897e-03, 9.94925991e-01],\n",
       "       [8.82017429e-01, 1.17982571e-01],\n",
       "       [1.04973446e-01, 8.95026554e-01],\n",
       "       [9.91997954e-01, 8.00204609e-03],\n",
       "       [9.84439877e-01, 1.55601229e-02],\n",
       "       [7.96518741e-01, 2.03481259e-01],\n",
       "       [3.98425424e-01, 6.01574576e-01],\n",
       "       [9.03509008e-01, 9.64909922e-02],\n",
       "       [1.80806493e-02, 9.81919351e-01],\n",
       "       [1.85371789e-01, 8.14628211e-01],\n",
       "       [1.98267917e-02, 9.80173208e-01],\n",
       "       [1.27820483e-01, 8.72179517e-01],\n",
       "       [8.70675394e-01, 1.29324606e-01],\n",
       "       [9.76850977e-01, 2.31490230e-02],\n",
       "       [4.32000666e-01, 5.67999334e-01],\n",
       "       [7.48848049e-01, 2.51151951e-01],\n",
       "       [5.98386250e-01, 4.01613750e-01],\n",
       "       [1.30099737e-01, 8.69900263e-01],\n",
       "       [5.80134115e-01, 4.19865885e-01],\n",
       "       [9.88300698e-01, 1.16993018e-02],\n",
       "       [9.79100308e-01, 2.08996921e-02],\n",
       "       [3.94836591e-01, 6.05163409e-01],\n",
       "       [1.54888266e-01, 8.45111734e-01],\n",
       "       [1.42443108e-01, 8.57556892e-01],\n",
       "       [8.42482424e-02, 9.15751758e-01],\n",
       "       [9.19158074e-02, 9.08084193e-01],\n",
       "       [2.25180133e-01, 7.74819867e-01],\n",
       "       [2.75669362e-01, 7.24330638e-01],\n",
       "       [1.21513615e-02, 9.87848639e-01],\n",
       "       [2.23319788e-01, 7.76680212e-01],\n",
       "       [6.02697994e-02, 9.39730201e-01],\n",
       "       [9.83052941e-02, 9.01694706e-01],\n",
       "       [8.68011386e-02, 9.13198861e-01],\n",
       "       [8.84475259e-01, 1.15524741e-01],\n",
       "       [1.86863444e-01, 8.13136556e-01],\n",
       "       [8.25043914e-02, 9.17495609e-01],\n",
       "       [5.31103918e-01, 4.68896082e-01],\n",
       "       [1.03397345e-02, 9.89660265e-01],\n",
       "       [6.33619622e-01, 3.66380378e-01],\n",
       "       [8.92238840e-03, 9.91077612e-01],\n",
       "       [2.78508346e-01, 7.21491654e-01],\n",
       "       [1.29937541e-02, 9.87006246e-01],\n",
       "       [3.21955359e-01, 6.78044641e-01],\n",
       "       [8.39628438e-02, 9.16037156e-01],\n",
       "       [9.73887843e-01, 2.61121574e-02],\n",
       "       [9.97512615e-01, 2.48738512e-03],\n",
       "       [9.12491998e-01, 8.75080019e-02],\n",
       "       [5.36926943e-01, 4.63073057e-01],\n",
       "       [2.63172213e-01, 7.36827787e-01],\n",
       "       [9.87256003e-01, 1.27439967e-02],\n",
       "       [4.38308701e-02, 9.56169130e-01],\n",
       "       [8.12131917e-01, 1.87868083e-01],\n",
       "       [8.71494584e-01, 1.28505416e-01],\n",
       "       [6.93021046e-01, 3.06978954e-01],\n",
       "       [4.17257317e-01, 5.82742683e-01],\n",
       "       [9.99233126e-01, 7.66874347e-04],\n",
       "       [1.22764123e-01, 8.77235877e-01],\n",
       "       [4.46105980e-04, 9.99553894e-01],\n",
       "       [3.11767387e-01, 6.88232613e-01],\n",
       "       [5.43128282e-01, 4.56871718e-01],\n",
       "       [2.03720281e-01, 7.96279719e-01],\n",
       "       [8.67082848e-01, 1.32917152e-01],\n",
       "       [7.28246444e-01, 2.71753556e-01],\n",
       "       [2.39418777e-03, 9.97605812e-01],\n",
       "       [7.95762326e-02, 9.20423767e-01],\n",
       "       [6.09960453e-01, 3.90039547e-01],\n",
       "       [2.17196526e-03, 9.97828035e-01],\n",
       "       [9.25638338e-01, 7.43616619e-02],\n",
       "       [4.81270814e-02, 9.51872919e-01],\n",
       "       [1.26886517e-01, 8.73113483e-01],\n",
       "       [8.79581331e-01, 1.20418669e-01],\n",
       "       [8.63621842e-03, 9.91363782e-01],\n",
       "       [5.85512467e-01, 4.14487533e-01],\n",
       "       [6.72884095e-02, 9.32711591e-01],\n",
       "       [9.41085553e-01, 5.89144472e-02],\n",
       "       [9.78574730e-01, 2.14252701e-02],\n",
       "       [1.75409225e-01, 8.24590775e-01],\n",
       "       [8.88384685e-01, 1.11615315e-01],\n",
       "       [9.36632548e-01, 6.33674522e-02],\n",
       "       [3.49262462e-01, 6.50737538e-01],\n",
       "       [5.88525135e-02, 9.41147486e-01],\n",
       "       [2.08444507e-01, 7.91555493e-01],\n",
       "       [1.75715444e-03, 9.98242846e-01],\n",
       "       [4.84345030e-02, 9.51565497e-01],\n",
       "       [7.69654658e-01, 2.30345342e-01],\n",
       "       [2.86543496e-01, 7.13456504e-01],\n",
       "       [9.97432630e-01, 2.56736997e-03],\n",
       "       [2.26107416e-01, 7.73892584e-01],\n",
       "       [8.66152175e-01, 1.33847825e-01],\n",
       "       [3.76440357e-02, 9.62355964e-01],\n",
       "       [7.96260603e-01, 2.03739397e-01],\n",
       "       [9.07802276e-01, 9.21977242e-02],\n",
       "       [9.68087658e-01, 3.19123425e-02],\n",
       "       [9.58694940e-01, 4.13050600e-02],\n",
       "       [9.99103979e-01, 8.96021312e-04],\n",
       "       [5.45109134e-01, 4.54890866e-01],\n",
       "       [9.49902220e-01, 5.00977800e-02],\n",
       "       [9.55183354e-01, 4.48166455e-02],\n",
       "       [2.03230045e-02, 9.79676996e-01],\n",
       "       [3.08582539e-01, 6.91417461e-01],\n",
       "       [1.04753863e-01, 8.95246137e-01],\n",
       "       [9.15118162e-01, 8.48818380e-02],\n",
       "       [6.40003660e-02, 9.35999634e-01],\n",
       "       [5.10040995e-02, 9.48995901e-01],\n",
       "       [1.51725239e-03, 9.98482748e-01],\n",
       "       [8.37752620e-01, 1.62247380e-01],\n",
       "       [9.99603509e-01, 3.96490548e-04],\n",
       "       [8.77632681e-01, 1.22367319e-01],\n",
       "       [9.74220452e-01, 2.57795480e-02],\n",
       "       [3.98240148e-01, 6.01759852e-01],\n",
       "       [3.38560586e-01, 6.61439414e-01],\n",
       "       [1.10709616e-02, 9.88929038e-01],\n",
       "       [7.99347685e-01, 2.00652315e-01],\n",
       "       [9.15280810e-02, 9.08471919e-01],\n",
       "       [9.35114804e-01, 6.48851960e-02],\n",
       "       [8.99579627e-01, 1.00420373e-01],\n",
       "       [9.48496391e-01, 5.15036086e-02],\n",
       "       [8.61672541e-01, 1.38327459e-01],\n",
       "       [9.86081347e-01, 1.39186529e-02],\n",
       "       [9.93507342e-01, 6.49265783e-03],\n",
       "       [4.97049005e-01, 5.02950995e-01],\n",
       "       [5.00178652e-01, 4.99821348e-01],\n",
       "       [3.69155189e-01, 6.30844811e-01],\n",
       "       [6.63385196e-01, 3.36614804e-01],\n",
       "       [7.74711609e-01, 2.25288391e-01],\n",
       "       [9.10194063e-01, 8.98059375e-02],\n",
       "       [4.96543231e-01, 5.03456769e-01],\n",
       "       [3.97576490e-01, 6.02423510e-01],\n",
       "       [2.41212907e-01, 7.58787093e-01],\n",
       "       [2.26973355e-01, 7.73026645e-01],\n",
       "       [9.25995349e-01, 7.40046506e-02],\n",
       "       [8.61191536e-01, 1.38808464e-01],\n",
       "       [8.67288328e-01, 1.32711672e-01],\n",
       "       [9.46815498e-01, 5.31845021e-02],\n",
       "       [6.19833483e-03, 9.93801665e-01],\n",
       "       [8.64872756e-01, 1.35127244e-01],\n",
       "       [1.78688552e-01, 8.21311448e-01],\n",
       "       [2.57242946e-02, 9.74275705e-01],\n",
       "       [1.09824247e-01, 8.90175753e-01],\n",
       "       [2.10524961e-01, 7.89475039e-01],\n",
       "       [7.68406863e-01, 2.31593137e-01],\n",
       "       [6.55333533e-01, 3.44666467e-01],\n",
       "       [6.38282154e-01, 3.61717846e-01],\n",
       "       [7.67947153e-01, 2.32052847e-01],\n",
       "       [7.18405572e-01, 2.81594428e-01],\n",
       "       [8.75946401e-01, 1.24053599e-01],\n",
       "       [9.13851246e-01, 8.61487543e-02],\n",
       "       [1.57458007e-01, 8.42541993e-01],\n",
       "       [1.08642397e-01, 8.91357603e-01],\n",
       "       [3.35673163e-02, 9.66432684e-01]])"
      ]
     },
     "execution_count": 59,
     "metadata": {},
     "output_type": "execute_result"
    }
   ],
   "source": [
    "model_prob"
   ]
  },
  {
   "cell_type": "code",
   "execution_count": 60,
   "metadata": {},
   "outputs": [
    {
     "data": {
      "text/plain": [
       "array([4.06216587e-02, 6.44713387e-01, 5.38732876e-01, 8.73110975e-01,\n",
       "       6.01473192e-01, 4.10776509e-01, 9.28778254e-01, 2.49540657e-01,\n",
       "       4.55954900e-02, 3.03859348e-02, 8.66127103e-01, 4.68208162e-01,\n",
       "       8.27589590e-01, 3.21642984e-02, 7.69763188e-01, 3.85242976e-01,\n",
       "       4.34908211e-01, 7.47088006e-03, 3.74204437e-01, 1.32724600e-02,\n",
       "       1.51303330e-02, 9.58384731e-01, 1.79147874e-01, 9.73088788e-01,\n",
       "       9.72450017e-01, 8.30650485e-01, 5.34671441e-01, 5.01917093e-02,\n",
       "       1.01228908e-02, 9.78784950e-01, 9.39490691e-01, 9.03671822e-01,\n",
       "       3.32370894e-02, 9.09948593e-01, 3.73692041e-01, 2.96964915e-01,\n",
       "       2.37887250e-02, 8.71602104e-01, 1.16043537e-01, 8.72214801e-01,\n",
       "       4.93934896e-01, 9.60635012e-01, 5.14355751e-01, 5.97329843e-01,\n",
       "       4.50478630e-01, 9.29693017e-03, 1.02556098e-02, 7.03692587e-01,\n",
       "       6.16181236e-03, 8.14349801e-01, 8.37087836e-01, 9.15811568e-01,\n",
       "       9.54138995e-01, 8.88073827e-01, 1.89424774e-01, 6.54811331e-02,\n",
       "       5.04532486e-01, 9.36746409e-01, 9.78095315e-01, 1.45804839e-01,\n",
       "       3.39010983e-03, 4.07817655e-02, 4.82998823e-01, 2.24998797e-02,\n",
       "       8.08931591e-01, 7.28050867e-01, 9.22216846e-03, 9.96766129e-01,\n",
       "       9.95237910e-01, 2.34324175e-01, 8.48796629e-01, 5.22978523e-01,\n",
       "       3.74117983e-02, 6.13874329e-03, 8.11456865e-01, 9.73538845e-01,\n",
       "       8.03289259e-01, 3.05832894e-01, 4.36116056e-01, 8.01138231e-01,\n",
       "       6.51853232e-01, 8.21807998e-01, 2.58723941e-01, 7.33159261e-01,\n",
       "       7.75538428e-01, 8.84782039e-01, 7.01094528e-01, 3.99840106e-01,\n",
       "       9.81100160e-01, 9.96803683e-01, 9.27249946e-01, 9.68041021e-01,\n",
       "       3.16797567e-01, 1.31381513e-02, 9.95576346e-01, 4.41894488e-02,\n",
       "       1.00006219e-01, 8.08110182e-01, 1.31825035e-01, 1.32562372e-02,\n",
       "       9.94925991e-01, 1.17982571e-01, 8.95026554e-01, 8.00204609e-03,\n",
       "       1.55601229e-02, 2.03481259e-01, 6.01574576e-01, 9.64909922e-02,\n",
       "       9.81919351e-01, 8.14628211e-01, 9.80173208e-01, 8.72179517e-01,\n",
       "       1.29324606e-01, 2.31490230e-02, 5.67999334e-01, 2.51151951e-01,\n",
       "       4.01613750e-01, 8.69900263e-01, 4.19865885e-01, 1.16993018e-02,\n",
       "       2.08996921e-02, 6.05163409e-01, 8.45111734e-01, 8.57556892e-01,\n",
       "       9.15751758e-01, 9.08084193e-01, 7.74819867e-01, 7.24330638e-01,\n",
       "       9.87848639e-01, 7.76680212e-01, 9.39730201e-01, 9.01694706e-01,\n",
       "       9.13198861e-01, 1.15524741e-01, 8.13136556e-01, 9.17495609e-01,\n",
       "       4.68896082e-01, 9.89660265e-01, 3.66380378e-01, 9.91077612e-01,\n",
       "       7.21491654e-01, 9.87006246e-01, 6.78044641e-01, 9.16037156e-01,\n",
       "       2.61121574e-02, 2.48738512e-03, 8.75080019e-02, 4.63073057e-01,\n",
       "       7.36827787e-01, 1.27439967e-02, 9.56169130e-01, 1.87868083e-01,\n",
       "       1.28505416e-01, 3.06978954e-01, 5.82742683e-01, 7.66874347e-04,\n",
       "       8.77235877e-01, 9.99553894e-01, 6.88232613e-01, 4.56871718e-01,\n",
       "       7.96279719e-01, 1.32917152e-01, 2.71753556e-01, 9.97605812e-01,\n",
       "       9.20423767e-01, 3.90039547e-01, 9.97828035e-01, 7.43616619e-02,\n",
       "       9.51872919e-01, 8.73113483e-01, 1.20418669e-01, 9.91363782e-01,\n",
       "       4.14487533e-01, 9.32711591e-01, 5.89144472e-02, 2.14252701e-02,\n",
       "       8.24590775e-01, 1.11615315e-01, 6.33674522e-02, 6.50737538e-01,\n",
       "       9.41147486e-01, 7.91555493e-01, 9.98242846e-01, 9.51565497e-01,\n",
       "       2.30345342e-01, 7.13456504e-01, 2.56736997e-03, 7.73892584e-01,\n",
       "       1.33847825e-01, 9.62355964e-01, 2.03739397e-01, 9.21977242e-02,\n",
       "       3.19123425e-02, 4.13050600e-02, 8.96021312e-04, 4.54890866e-01,\n",
       "       5.00977800e-02, 4.48166455e-02, 9.79676996e-01, 6.91417461e-01,\n",
       "       8.95246137e-01, 8.48818380e-02, 9.35999634e-01, 9.48995901e-01,\n",
       "       9.98482748e-01, 1.62247380e-01, 3.96490548e-04, 1.22367319e-01,\n",
       "       2.57795480e-02, 6.01759852e-01, 6.61439414e-01, 9.88929038e-01,\n",
       "       2.00652315e-01, 9.08471919e-01, 6.48851960e-02, 1.00420373e-01,\n",
       "       5.15036086e-02, 1.38327459e-01, 1.39186529e-02, 6.49265783e-03,\n",
       "       5.02950995e-01, 4.99821348e-01, 6.30844811e-01, 3.36614804e-01,\n",
       "       2.25288391e-01, 8.98059375e-02, 5.03456769e-01, 6.02423510e-01,\n",
       "       7.58787093e-01, 7.73026645e-01, 7.40046506e-02, 1.38808464e-01,\n",
       "       1.32711672e-01, 5.31845021e-02, 9.93801665e-01, 1.35127244e-01,\n",
       "       8.21311448e-01, 9.74275705e-01, 8.90175753e-01, 7.89475039e-01,\n",
       "       2.31593137e-01, 3.44666467e-01, 3.61717846e-01, 2.32052847e-01,\n",
       "       2.81594428e-01, 1.24053599e-01, 8.61487543e-02, 8.42541993e-01,\n",
       "       8.91357603e-01, 9.66432684e-01])"
      ]
     },
     "execution_count": 60,
     "metadata": {},
     "output_type": "execute_result"
    }
   ],
   "source": [
    "model_prob=model_prob[:,1]\n",
    "model_prob"
   ]
  },
  {
   "cell_type": "code",
   "execution_count": 61,
   "metadata": {},
   "outputs": [
    {
     "name": "stdout",
     "output_type": "stream",
     "text": [
      "0.5\n",
      "0.9232456140350878\n"
     ]
    }
   ],
   "source": [
    "dummy_model_auc=roc_auc_score(y_test,dummy_model_prob)\n",
    "model_auc=roc_auc_score(y_test,model_prob)\n",
    "print(dummy_model_auc)\n",
    "print(model_auc)"
   ]
  },
  {
   "cell_type": "code",
   "execution_count": 66,
   "metadata": {},
   "outputs": [],
   "source": [
    "dummy_fpr,dummy_tpr,_=roc_curve(y_test,dummy_model_prob)\n",
    "model_fpr,model_tpr,threshold=roc_curve(y_test,model_prob)"
   ]
  },
  {
   "cell_type": "code",
   "execution_count": null,
   "metadata": {},
   "outputs": [
    {
     "data": {
      "image/png": "[encoded data removed]",
      "text/plain": [
       "<Figure size 640x480 with 1 Axes>"
      ]
     },
     "metadata": {},
     "output_type": "display_data"
    }
   ],
   "source": [
    "plt.plot(dummy_fpr,dummy_tpr,linestyle='--',label='Dummy model')\n",
    "plt.plot(model_fpr,model_tpr,marker='.',label='Logistic')\n",
    "\n",
    "plt.xlabel('false pos rate')\n",
    "plt.ylabel('true pos rate')\n",
    "\n",
    "plt.legend()\n",
    "plt.show()\n"
   ]
  },
  {
   "cell_type": "code",
   "execution_count": 69,
   "metadata": {},
   "outputs": [
    {
     "name": "stderr",
     "output_type": "stream",
     "text": [
      "No artists with labels found to put in legend.  Note that artists whose label start with an underscore are ignored when legend() is called with no argument.\n"
     ]
    },
    {
     "data": {
      "image/png": "[encoded data removed]",
      "text/plain": [
       "<Figure size 2000x5000 with 2 Axes>"
      ]
     },
     "metadata": {},
     "output_type": "display_data"
    }
   ],
   "source": [
    "fig=plt.figure(figsize=(20,50))\n",
    "plt.plot(dummy_fpr,dummy_tpr,linestyle='--',label='Dummy model')\n",
    "plt.plot(model_fpr,model_tpr,marker='.',label='Logistic')\n",
    "ax=fig.add_subplot(111)\n",
    "for xyz in zip(model_fpr,model_tpr,threshold):\n",
    "    ax.annotate('%s' % np.round(xyz[2],2),xy=(xyz[0],xyz[1]))\n",
    "\n",
    "plt.xlabel('false pos rate')\n",
    "plt.ylabel('true pos rate')\n",
    "\n",
    "plt.legend()\n",
    "plt.show()"
   ]
  },
  {
   "cell_type": "code",
   "execution_count": null,
   "metadata": {},
   "outputs": [],
   "source": []
  }
 ],
 "metadata": {
  "kernelspec": {
   "display_name": "base",
   "language": "python",
   "name": "python3"
  },
  "language_info": {
   "codemirror_mode": {
    "name": "ipython",
    "version": 3
   },
   "file_extension": ".py",
   "mimetype": "text/x-python",
   "name": "python",
   "nbconvert_exporter": "python",
   "pygments_lexer": "ipython3",
   "version": "3.11.4"
  }
 },
 "nbformat": 4,
 "nbformat_minor": 2
}
