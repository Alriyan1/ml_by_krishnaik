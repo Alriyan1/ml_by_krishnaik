{
 "cells": [
  {
   "cell_type": "code",
   "execution_count": 1,
   "metadata": {},
   "outputs": [],
   "source": [
    "import pandas as pd\n",
    "import matplotlib.pyplot as plt\n",
    "import numpy as np"
   ]
  },
  {
   "cell_type": "code",
   "execution_count": 10,
   "metadata": {},
   "outputs": [
    {
     "data": {
      "text/html": [
       "<div>\n",
       "<style scoped>\n",
       "    .dataframe tbody tr th:only-of-type {\n",
       "        vertical-align: middle;\n",
       "    }\n",
       "\n",
       "    .dataframe tbody tr th {\n",
       "        vertical-align: top;\n",
       "    }\n",
       "\n",
       "    .dataframe thead th {\n",
       "        text-align: right;\n",
       "    }\n",
       "</style>\n",
       "<table border=\"1\" class=\"dataframe\">\n",
       "  <thead>\n",
       "    <tr style=\"text-align: right;\">\n",
       "      <th></th>\n",
       "      <th>Feature_X</th>\n",
       "      <th>Feature_Y</th>\n",
       "    </tr>\n",
       "  </thead>\n",
       "  <tbody>\n",
       "    <tr>\n",
       "      <th>0</th>\n",
       "      <td>27.183707</td>\n",
       "      <td>28.126693</td>\n",
       "    </tr>\n",
       "    <tr>\n",
       "      <th>1</th>\n",
       "      <td>42.696289</td>\n",
       "      <td>25.906615</td>\n",
       "    </tr>\n",
       "    <tr>\n",
       "      <th>2</th>\n",
       "      <td>36.983968</td>\n",
       "      <td>26.873809</td>\n",
       "    </tr>\n",
       "    <tr>\n",
       "      <th>3</th>\n",
       "      <td>28.050448</td>\n",
       "      <td>28.631951</td>\n",
       "    </tr>\n",
       "    <tr>\n",
       "      <th>4</th>\n",
       "      <td>35.748115</td>\n",
       "      <td>39.821265</td>\n",
       "    </tr>\n",
       "  </tbody>\n",
       "</table>\n",
       "</div>"
      ],
      "text/plain": [
       "   Feature_X  Feature_Y\n",
       "0  27.183707  28.126693\n",
       "1  42.696289  25.906615\n",
       "2  36.983968  26.873809\n",
       "3  28.050448  28.631951\n",
       "4  35.748115  39.821265"
      ]
     },
     "execution_count": 10,
     "metadata": {},
     "output_type": "execute_result"
    }
   ],
   "source": [
    "df=pd.read_csv('anomaly_detection_dataset.csv')\n",
    "df.head()"
   ]
  },
  {
   "cell_type": "code",
   "execution_count": 12,
   "metadata": {},
   "outputs": [
    {
     "data": {
      "text/plain": [
       "<matplotlib.collections.PathCollection at 0x13694dbfc50>"
      ]
     },
     "execution_count": 12,
     "metadata": {},
     "output_type": "execute_result"
    },
    {
     "data": {
      "image/png": "[encoded data removed]",
      "text/plain": [
       "<Figure size 640x480 with 1 Axes>"
      ]
     },
     "metadata": {},
     "output_type": "display_data"
    }
   ],
   "source": [
    "plt.scatter(df.iloc[:,0],df.iloc[:,1])"
   ]
  },
  {
   "cell_type": "code",
   "execution_count": 13,
   "metadata": {},
   "outputs": [],
   "source": [
    "from sklearn.ensemble import IsolationForest"
   ]
  },
  {
   "cell_type": "code",
   "execution_count": 14,
   "metadata": {},
   "outputs": [],
   "source": [
    "clf=IsolationForest(contamination=0.1)\n",
    "clf.fit(df)\n",
    "prediction=clf.predict(df)"
   ]
  },
  {
   "cell_type": "code",
   "execution_count": 15,
   "metadata": {},
   "outputs": [
    {
     "data": {
      "text/plain": [
       "array([ 1, -1,  1,  1,  1,  1,  1,  1,  1,  1,  1,  1,  1,  1, -1,  1,  1,\n",
       "        1,  1,  1,  1,  1,  1,  1,  1,  1,  1,  1,  1, -1,  1,  1,  1,  1,\n",
       "        1,  1,  1,  1,  1,  1,  1,  1,  1,  1,  1,  1,  1, -1,  1,  1,  1,\n",
       "        1,  1,  1,  1, -1,  1,  1,  1,  1,  1,  1,  1,  1,  1,  1,  1,  1,\n",
       "        1,  1,  1, -1,  1,  1,  1,  1,  1,  1, -1,  1,  1,  1,  1,  1,  1,\n",
       "        1,  1,  1,  1,  1,  1,  1,  1,  1,  1,  1,  1,  1,  1,  1, -1, -1,\n",
       "       -1,  1, -1])"
      ]
     },
     "execution_count": 15,
     "metadata": {},
     "output_type": "execute_result"
    }
   ],
   "source": [
    "prediction"
   ]
  },
  {
   "cell_type": "code",
   "execution_count": 16,
   "metadata": {},
   "outputs": [
    {
     "data": {
      "text/plain": [
       "(array([  1,  14,  29,  47,  55,  71,  78, 100, 101, 102, 104], dtype=int64),)"
      ]
     },
     "execution_count": 16,
     "metadata": {},
     "output_type": "execute_result"
    }
   ],
   "source": [
    "index=np.where(prediction<0)\n",
    "index"
   ]
  },
  {
   "cell_type": "code",
   "execution_count": 17,
   "metadata": {},
   "outputs": [],
   "source": [
    "x=df.values"
   ]
  },
  {
   "cell_type": "code",
   "execution_count": 18,
   "metadata": {},
   "outputs": [
    {
     "data": {
      "text/plain": [
       "array([[27.18370694, 28.12669336],\n",
       "       [42.69628896, 25.90661507],\n",
       "       [36.98396789, 26.87380908],\n",
       "       [28.05044804, 28.63195128],\n",
       "       [35.74811539, 39.82126483],\n",
       "       [32.62605856, 29.01389165],\n",
       "       [31.16732898, 23.86973498],\n",
       "       [34.01326128, 30.20832634],\n",
       "       [30.27035437, 30.89064213],\n",
       "       [31.20175578, 30.1781773 ],\n",
       "       [34.11676258, 33.99845611],\n",
       "       [40.26226371, 30.34502756],\n",
       "       [31.25597486, 33.84363746],\n",
       "       [27.73101668, 26.09828323],\n",
       "       [19.85384572, 38.90364719],\n",
       "       [39.80651736, 31.26239894],\n",
       "       [28.68379144, 32.00109485],\n",
       "       [32.67404645, 26.07744053],\n",
       "       [39.52953618, 32.35913496],\n",
       "       [31.1380116 , 33.25532528],\n",
       "       [29.02664869, 24.15115783],\n",
       "       [37.09836489, 21.70454206],\n",
       "       [32.30368534, 31.46833012],\n",
       "       [32.93052802, 27.55615088],\n",
       "       [22.38419565, 31.29960735],\n",
       "       [36.02957604, 23.54481965],\n",
       "       [31.87794034, 22.19747043],\n",
       "       [23.1420531 , 31.03344732],\n",
       "       [32.42547056, 28.2510812 ],\n",
       "       [19.68737163, 19.44650239],\n",
       "       [41.70987601, 36.71549409],\n",
       "       [24.490726  , 23.46171466],\n",
       "       [38.05896383, 42.86662476],\n",
       "       [25.93522226, 26.87991636],\n",
       "       [32.80112855, 32.00780284],\n",
       "       [25.43935872, 38.23474505],\n",
       "       [34.98557611, 37.39716964],\n",
       "       [28.82340629, 39.93068203],\n",
       "       [32.33889773, 22.38461881],\n",
       "       [30.07532191, 24.32067251],\n",
       "       [23.17167607, 31.12998637],\n",
       "       [32.5205343 , 34.19873719],\n",
       "       [27.48381257, 29.94386278],\n",
       "       [35.22656397, 21.81002982],\n",
       "       [28.82070096, 32.48289079],\n",
       "       [29.61618045, 29.02874306],\n",
       "       [38.41463232, 28.96880521],\n",
       "       [41.90818397, 18.61024791],\n",
       "       [33.93016978, 33.98742102],\n",
       "       [28.56429951, 30.7260203 ],\n",
       "       [78.97582278, 58.36824143],\n",
       "       [69.62746177, 77.55401609],\n",
       "       [72.83170065, 60.6954506 ],\n",
       "       [74.15909088, 74.98470034],\n",
       "       [61.26919221, 73.43415895],\n",
       "       [83.08349973, 58.30203499],\n",
       "       [67.84603806, 58.55469372],\n",
       "       [72.47283301, 77.16240959],\n",
       "       [73.20291003, 76.0736103 ],\n",
       "       [65.92607936, 65.59568178],\n",
       "       [79.23490166, 65.59060552],\n",
       "       [71.32977635, 72.56302486],\n",
       "       [68.93263682, 69.93627925],\n",
       "       [70.69253981, 75.27197608],\n",
       "       [73.82126099, 72.39790462],\n",
       "       [70.05399082, 77.91515397],\n",
       "       [74.40964955, 74.85038889],\n",
       "       [61.57563931, 73.60386525],\n",
       "       [66.26015005, 68.2393764 ],\n",
       "       [59.30599843, 67.87339383],\n",
       "       [79.98504078, 69.74120508],\n",
       "       [79.91996064, 79.20471535],\n",
       "       [73.13308034, 67.96862635],\n",
       "       [64.93690965, 71.30264494],\n",
       "       [81.94939136, 58.77598546],\n",
       "       [66.97792761, 73.37904365],\n",
       "       [68.93396437, 81.28599141],\n",
       "       [70.79766703, 65.33180945],\n",
       "       [72.25757971, 85.87221069],\n",
       "       [73.21901301, 70.91120302],\n",
       "       [73.41980819, 57.13534379],\n",
       "       [69.27737957, 68.0723088 ],\n",
       "       [73.34050476, 76.65219282],\n",
       "       [69.0539617 , 79.99658603],\n",
       "       [72.89651718, 73.59049274],\n",
       "       [72.48645889, 77.8379721 ],\n",
       "       [73.81423645, 64.11107229],\n",
       "       [73.1898335 , 66.59869206],\n",
       "       [67.78783813, 61.60270359],\n",
       "       [72.29355086, 66.97468462],\n",
       "       [73.26699869, 73.80959493],\n",
       "       [63.54437806, 71.06327881],\n",
       "       [68.62977821, 74.33924518],\n",
       "       [73.04056946, 65.31742991],\n",
       "       [78.54646247, 65.62237487],\n",
       "       [74.12450093, 71.02305105],\n",
       "       [78.86188993, 66.98676097],\n",
       "       [68.00813305, 76.50924584],\n",
       "       [71.25095246, 66.86290558],\n",
       "       [74.0286765 , 67.52305379],\n",
       "       [18.63208795, 60.78943938],\n",
       "       [83.7490789 , 37.93056984],\n",
       "       [33.21464127, 74.42496518],\n",
       "       [31.1444264 , 20.55798084],\n",
       "       [22.73956209, 78.77898887]])"
      ]
     },
     "execution_count": 18,
     "metadata": {},
     "output_type": "execute_result"
    }
   ],
   "source": [
    "x"
   ]
  },
  {
   "cell_type": "code",
   "execution_count": 19,
   "metadata": {},
   "outputs": [
    {
     "data": {
      "text/plain": [
       "<matplotlib.collections.PathCollection at 0x13695932350>"
      ]
     },
     "execution_count": 19,
     "metadata": {},
     "output_type": "execute_result"
    },
    {
     "data": {
      "image/png": "[encoded data removed]",
      "text/plain": [
       "<Figure size 640x480 with 1 Axes>"
      ]
     },
     "metadata": {},
     "output_type": "display_data"
    }
   ],
   "source": [
    "plt.scatter(df.iloc[:,0],df.iloc[:,1])\n",
    "plt.scatter(x[index,0],x[index,1],edgecolors='r')"
   ]
  },
  {
   "cell_type": "code",
   "execution_count": null,
   "metadata": {},
   "outputs": [],
   "source": []
  }
 ],
 "metadata": {
  "kernelspec": {
   "display_name": "base",
   "language": "python",
   "name": "python3"
  },
  "language_info": {
   "codemirror_mode": {
    "name": "ipython",
    "version": 3
   },
   "file_extension": ".py",
   "mimetype": "text/x-python",
   "name": "python",
   "nbconvert_exporter": "python",
   "pygments_lexer": "ipython3",
   "version": "3.11.4"
  }
 },
 "nbformat": 4,
 "nbformat_minor": 2
}
