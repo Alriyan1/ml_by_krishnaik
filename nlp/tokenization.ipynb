{
 "cells": [
  {
   "cell_type": "code",
   "execution_count": 1,
   "metadata": {},
   "outputs": [],
   "source": [
    "import nltk"
   ]
  },
  {
   "cell_type": "code",
   "execution_count": 4,
   "metadata": {},
   "outputs": [],
   "source": [
    "corpus=\"\"\"\n",
    "hello welcome to the nlp tutorials.\n",
    "please do check the github repository for the code.\n",
    "to become expert in nlp, you must have good understanding of nlp concepts.\n",
    "\"\"\""
   ]
  },
  {
   "cell_type": "code",
   "execution_count": 6,
   "metadata": {},
   "outputs": [
    {
     "name": "stdout",
     "output_type": "stream",
     "text": [
      "\n",
      "hello welcome to the nlp tutorials.\n",
      "please do check the github repository for the code.\n",
      "to become expert in nlp, you must have good understanding of nlp concepts.\n",
      "\n"
     ]
    }
   ],
   "source": [
    "print(corpus)"
   ]
  },
  {
   "cell_type": "code",
   "execution_count": 7,
   "metadata": {},
   "outputs": [],
   "source": [
    "from nltk.tokenize import sent_tokenize"
   ]
  },
  {
   "cell_type": "code",
   "execution_count": 9,
   "metadata": {},
   "outputs": [],
   "source": [
    "documents=sent_tokenize(corpus)"
   ]
  },
  {
   "cell_type": "code",
   "execution_count": 10,
   "metadata": {},
   "outputs": [
    {
     "data": {
      "text/plain": [
       "list"
      ]
     },
     "execution_count": 10,
     "metadata": {},
     "output_type": "execute_result"
    }
   ],
   "source": [
    "type(documents)"
   ]
  },
  {
   "cell_type": "code",
   "execution_count": 11,
   "metadata": {},
   "outputs": [
    {
     "name": "stdout",
     "output_type": "stream",
     "text": [
      "\n",
      "hello welcome to the nlp tutorials.\n",
      "please do check the github repository for the code.\n",
      "to become expert in nlp, you must have good understanding of nlp concepts.\n"
     ]
    }
   ],
   "source": [
    "for sentence in documents:\n",
    "    print(sentence)"
   ]
  },
  {
   "cell_type": "code",
   "execution_count": 12,
   "metadata": {},
   "outputs": [],
   "source": [
    "from nltk.tokenize import word_tokenize"
   ]
  },
  {
   "cell_type": "code",
   "execution_count": 13,
   "metadata": {},
   "outputs": [
    {
     "data": {
      "text/plain": [
       "['hello',\n",
       " 'welcome',\n",
       " 'to',\n",
       " 'the',\n",
       " 'nlp',\n",
       " 'tutorials',\n",
       " '.',\n",
       " 'please',\n",
       " 'do',\n",
       " 'check',\n",
       " 'the',\n",
       " 'github',\n",
       " 'repository',\n",
       " 'for',\n",
       " 'the',\n",
       " 'code',\n",
       " '.',\n",
       " 'to',\n",
       " 'become',\n",
       " 'expert',\n",
       " 'in',\n",
       " 'nlp',\n",
       " ',',\n",
       " 'you',\n",
       " 'must',\n",
       " 'have',\n",
       " 'good',\n",
       " 'understanding',\n",
       " 'of',\n",
       " 'nlp',\n",
       " 'concepts',\n",
       " '.']"
      ]
     },
     "execution_count": 13,
     "metadata": {},
     "output_type": "execute_result"
    }
   ],
   "source": [
    "word_tokenize(corpus)"
   ]
  },
  {
   "cell_type": "code",
   "execution_count": 14,
   "metadata": {},
   "outputs": [
    {
     "name": "stdout",
     "output_type": "stream",
     "text": [
      "['hello', 'welcome', 'to', 'the', 'nlp', 'tutorials', '.']\n",
      "['please', 'do', 'check', 'the', 'github', 'repository', 'for', 'the', 'code', '.']\n",
      "['to', 'become', 'expert', 'in', 'nlp', ',', 'you', 'must', 'have', 'good', 'understanding', 'of', 'nlp', 'concepts', '.']\n"
     ]
    }
   ],
   "source": [
    "for sentence in documents:\n",
    "    words=word_tokenize(sentence)\n",
    "    print(words)"
   ]
  },
  {
   "cell_type": "code",
   "execution_count": 15,
   "metadata": {},
   "outputs": [],
   "source": [
    "from nltk.tokenize import wordpunct_tokenize"
   ]
  },
  {
   "cell_type": "code",
   "execution_count": 16,
   "metadata": {},
   "outputs": [
    {
     "data": {
      "text/plain": [
       "['hello',\n",
       " 'welcome',\n",
       " 'to',\n",
       " 'the',\n",
       " 'nlp',\n",
       " 'tutorials',\n",
       " '.',\n",
       " 'please',\n",
       " 'do',\n",
       " 'check',\n",
       " 'the',\n",
       " 'github',\n",
       " 'repository',\n",
       " 'for',\n",
       " 'the',\n",
       " 'code',\n",
       " '.',\n",
       " 'to',\n",
       " 'become',\n",
       " 'expert',\n",
       " 'in',\n",
       " 'nlp',\n",
       " ',',\n",
       " 'you',\n",
       " 'must',\n",
       " 'have',\n",
       " 'good',\n",
       " 'understanding',\n",
       " 'of',\n",
       " 'nlp',\n",
       " 'concepts',\n",
       " '.']"
      ]
     },
     "execution_count": 16,
     "metadata": {},
     "output_type": "execute_result"
    }
   ],
   "source": [
    "wordpunct_tokenize(corpus)"
   ]
  },
  {
   "cell_type": "code",
   "execution_count": 17,
   "metadata": {},
   "outputs": [],
   "source": [
    "from nltk.tokenize import TreebankWordTokenizer"
   ]
  },
  {
   "cell_type": "code",
   "execution_count": 18,
   "metadata": {},
   "outputs": [
    {
     "data": {
      "text/plain": [
       "['hello',\n",
       " 'welcome',\n",
       " 'to',\n",
       " 'the',\n",
       " 'nlp',\n",
       " 'tutorials.',\n",
       " 'please',\n",
       " 'do',\n",
       " 'check',\n",
       " 'the',\n",
       " 'github',\n",
       " 'repository',\n",
       " 'for',\n",
       " 'the',\n",
       " 'code.',\n",
       " 'to',\n",
       " 'become',\n",
       " 'expert',\n",
       " 'in',\n",
       " 'nlp',\n",
       " ',',\n",
       " 'you',\n",
       " 'must',\n",
       " 'have',\n",
       " 'good',\n",
       " 'understanding',\n",
       " 'of',\n",
       " 'nlp',\n",
       " 'concepts',\n",
       " '.']"
      ]
     },
     "execution_count": 18,
     "metadata": {},
     "output_type": "execute_result"
    }
   ],
   "source": [
    "tokenizer=TreebankWordTokenizer()\n",
    "tokenizer.tokenize(corpus)"
   ]
  },
  {
   "cell_type": "code",
   "execution_count": null,
   "metadata": {},
   "outputs": [],
   "source": []
  }
 ],
 "metadata": {
  "kernelspec": {
   "display_name": "base",
   "language": "python",
   "name": "python3"
  },
  "language_info": {
   "codemirror_mode": {
    "name": "ipython",
    "version": 3
   },
   "file_extension": ".py",
   "mimetype": "text/x-python",
   "name": "python",
   "nbconvert_exporter": "python",
   "pygments_lexer": "ipython3",
   "version": "3.11.4"
  }
 },
 "nbformat": 4,
 "nbformat_minor": 2
}
